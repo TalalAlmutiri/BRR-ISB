{
  "nbformat": 4,
  "nbformat_minor": 0,
  "metadata": {
    "colab": {
      "provenance": [],
      "machine_shape": "hm",
      "gpuType": "T4"
    },
    "kernelspec": {
      "name": "python3",
      "display_name": "Python 3"
    },
    "language_info": {
      "name": "python"
    },
    "accelerator": "GPU"
  },
  "cells": [
    {
      "cell_type": "code",
      "execution_count": 1,
      "metadata": {
        "colab": {
          "base_uri": "https://localhost:8080/"
        },
        "id": "WygSJNl9KlYn",
        "outputId": "0a067eda-4481-4e6e-c84d-9edf0e14d806"
      },
      "outputs": [
        {
          "output_type": "stream",
          "name": "stdout",
          "text": [
            "Collecting PubChemPy\n",
            "  Downloading PubChemPy-1.0.4.tar.gz (29 kB)\n",
            "  Preparing metadata (setup.py) ... \u001b[?25l\u001b[?25hdone\n",
            "Building wheels for collected packages: PubChemPy\n",
            "  Building wheel for PubChemPy (setup.py) ... \u001b[?25l\u001b[?25hdone\n",
            "  Created wheel for PubChemPy: filename=PubChemPy-1.0.4-py3-none-any.whl size=13819 sha256=6bd662f13eb68236e8261cb027aeda476b37ab49cc66eccb8651a390daa059f4\n",
            "  Stored in directory: /root/.cache/pip/wheels/90/7c/45/18a0671e3c3316966ef7ed9ad2b3f3300a7e41d3421a44e799\n",
            "Successfully built PubChemPy\n",
            "Installing collected packages: PubChemPy\n",
            "Successfully installed PubChemPy-1.0.4\n",
            "Collecting rdkit-pypi\n",
            "  Downloading rdkit_pypi-2022.9.5-cp310-cp310-manylinux_2_17_x86_64.manylinux2014_x86_64.whl (29.4 MB)\n",
            "\u001b[2K     \u001b[90m━━━━━━━━━━━━━━━━━━━━━━━━━━━━━━━━━━━━━━━━\u001b[0m \u001b[32m29.4/29.4 MB\u001b[0m \u001b[31m53.5 MB/s\u001b[0m eta \u001b[36m0:00:00\u001b[0m\n",
            "\u001b[?25hRequirement already satisfied: numpy in /usr/local/lib/python3.10/dist-packages (from rdkit-pypi) (1.23.5)\n",
            "Requirement already satisfied: Pillow in /usr/local/lib/python3.10/dist-packages (from rdkit-pypi) (9.4.0)\n",
            "Installing collected packages: rdkit-pypi\n",
            "Successfully installed rdkit-pypi-2022.9.5\n",
            "Collecting deepchem\n",
            "  Downloading deepchem-2.7.1-py3-none-any.whl (693 kB)\n",
            "\u001b[2K     \u001b[90m━━━━━━━━━━━━━━━━━━━━━━━━━━━━━━━━━━━━━━━━\u001b[0m \u001b[32m693.2/693.2 kB\u001b[0m \u001b[31m9.8 MB/s\u001b[0m eta \u001b[36m0:00:00\u001b[0m\n",
            "\u001b[?25hRequirement already satisfied: joblib in /usr/local/lib/python3.10/dist-packages (from deepchem) (1.3.2)\n",
            "Requirement already satisfied: numpy>=1.21 in /usr/local/lib/python3.10/dist-packages (from deepchem) (1.23.5)\n",
            "Requirement already satisfied: pandas in /usr/local/lib/python3.10/dist-packages (from deepchem) (1.5.3)\n",
            "Requirement already satisfied: scikit-learn in /usr/local/lib/python3.10/dist-packages (from deepchem) (1.2.2)\n",
            "Collecting scipy<1.9 (from deepchem)\n",
            "  Downloading scipy-1.8.1-cp310-cp310-manylinux_2_17_x86_64.manylinux2014_x86_64.whl (42.2 MB)\n",
            "\u001b[2K     \u001b[90m━━━━━━━━━━━━━━━━━━━━━━━━━━━━━━━━━━━━━━━━\u001b[0m \u001b[32m42.2/42.2 MB\u001b[0m \u001b[31m35.7 MB/s\u001b[0m eta \u001b[36m0:00:00\u001b[0m\n",
            "\u001b[?25hCollecting rdkit (from deepchem)\n",
            "  Downloading rdkit-2023.9.3-cp310-cp310-manylinux_2_17_x86_64.manylinux2014_x86_64.whl (34.3 MB)\n",
            "\u001b[2K     \u001b[90m━━━━━━━━━━━━━━━━━━━━━━━━━━━━━━━━━━━━━━━━\u001b[0m \u001b[32m34.3/34.3 MB\u001b[0m \u001b[31m2.7 MB/s\u001b[0m eta \u001b[36m0:00:00\u001b[0m\n",
            "\u001b[?25hRequirement already satisfied: python-dateutil>=2.8.1 in /usr/local/lib/python3.10/dist-packages (from pandas->deepchem) (2.8.2)\n",
            "Requirement already satisfied: pytz>=2020.1 in /usr/local/lib/python3.10/dist-packages (from pandas->deepchem) (2023.3.post1)\n",
            "Requirement already satisfied: Pillow in /usr/local/lib/python3.10/dist-packages (from rdkit->deepchem) (9.4.0)\n",
            "Requirement already satisfied: threadpoolctl>=2.0.0 in /usr/local/lib/python3.10/dist-packages (from scikit-learn->deepchem) (3.2.0)\n",
            "Requirement already satisfied: six>=1.5 in /usr/local/lib/python3.10/dist-packages (from python-dateutil>=2.8.1->pandas->deepchem) (1.16.0)\n",
            "Installing collected packages: scipy, rdkit, deepchem\n",
            "  Attempting uninstall: scipy\n",
            "    Found existing installation: scipy 1.11.4\n",
            "    Uninstalling scipy-1.11.4:\n",
            "      Successfully uninstalled scipy-1.11.4\n",
            "\u001b[31mERROR: pip's dependency resolver does not currently take into account all the packages that are installed. This behaviour is the source of the following dependency conflicts.\n",
            "lida 0.0.10 requires fastapi, which is not installed.\n",
            "lida 0.0.10 requires kaleido, which is not installed.\n",
            "lida 0.0.10 requires python-multipart, which is not installed.\n",
            "lida 0.0.10 requires uvicorn, which is not installed.\n",
            "jax 0.4.23 requires scipy>=1.9, but you have scipy 1.8.1 which is incompatible.\n",
            "jaxlib 0.4.23+cuda12.cudnn89 requires scipy>=1.9, but you have scipy 1.8.1 which is incompatible.\u001b[0m\u001b[31m\n",
            "\u001b[0mSuccessfully installed deepchem-2.7.1 rdkit-2023.9.3 scipy-1.8.1\n",
            "Collecting torchmetrics\n",
            "  Downloading torchmetrics-1.2.1-py3-none-any.whl (806 kB)\n",
            "\u001b[2K     \u001b[90m━━━━━━━━━━━━━━━━━━━━━━━━━━━━━━━━━━━━━━━━\u001b[0m \u001b[32m806.1/806.1 kB\u001b[0m \u001b[31m12.8 MB/s\u001b[0m eta \u001b[36m0:00:00\u001b[0m\n",
            "\u001b[?25hRequirement already satisfied: numpy>1.20.0 in /usr/local/lib/python3.10/dist-packages (from torchmetrics) (1.23.5)\n",
            "Requirement already satisfied: packaging>17.1 in /usr/local/lib/python3.10/dist-packages (from torchmetrics) (23.2)\n",
            "Requirement already satisfied: torch>=1.8.1 in /usr/local/lib/python3.10/dist-packages (from torchmetrics) (2.1.0+cu121)\n",
            "Collecting lightning-utilities>=0.8.0 (from torchmetrics)\n",
            "  Downloading lightning_utilities-0.10.0-py3-none-any.whl (24 kB)\n",
            "Requirement already satisfied: setuptools in /usr/local/lib/python3.10/dist-packages (from lightning-utilities>=0.8.0->torchmetrics) (67.7.2)\n",
            "Requirement already satisfied: typing-extensions in /usr/local/lib/python3.10/dist-packages (from lightning-utilities>=0.8.0->torchmetrics) (4.5.0)\n",
            "Requirement already satisfied: filelock in /usr/local/lib/python3.10/dist-packages (from torch>=1.8.1->torchmetrics) (3.13.1)\n",
            "Requirement already satisfied: sympy in /usr/local/lib/python3.10/dist-packages (from torch>=1.8.1->torchmetrics) (1.12)\n",
            "Requirement already satisfied: networkx in /usr/local/lib/python3.10/dist-packages (from torch>=1.8.1->torchmetrics) (3.2.1)\n",
            "Requirement already satisfied: jinja2 in /usr/local/lib/python3.10/dist-packages (from torch>=1.8.1->torchmetrics) (3.1.2)\n",
            "Requirement already satisfied: fsspec in /usr/local/lib/python3.10/dist-packages (from torch>=1.8.1->torchmetrics) (2023.6.0)\n",
            "Requirement already satisfied: triton==2.1.0 in /usr/local/lib/python3.10/dist-packages (from torch>=1.8.1->torchmetrics) (2.1.0)\n",
            "Requirement already satisfied: MarkupSafe>=2.0 in /usr/local/lib/python3.10/dist-packages (from jinja2->torch>=1.8.1->torchmetrics) (2.1.3)\n",
            "Requirement already satisfied: mpmath>=0.19 in /usr/local/lib/python3.10/dist-packages (from sympy->torch>=1.8.1->torchmetrics) (1.3.0)\n",
            "Installing collected packages: lightning-utilities, torchmetrics\n",
            "Successfully installed lightning-utilities-0.10.0 torchmetrics-1.2.1\n",
            "\u001b[2K     \u001b[90m━━━━━━━━━━━━━━━━━━━━━━━━━━━━━━━━━━━━━━━━\u001b[0m \u001b[32m10.8/10.8 MB\u001b[0m \u001b[31m66.3 MB/s\u001b[0m eta \u001b[36m0:00:00\u001b[0m\n",
            "\u001b[2K     \u001b[90m━━━━━━━━━━━━━━━━━━━━━━━━━━━━━━━━━━━━━━━━\u001b[0m \u001b[32m5.0/5.0 MB\u001b[0m \u001b[31m43.6 MB/s\u001b[0m eta \u001b[36m0:00:00\u001b[0m\n",
            "\u001b[2K     \u001b[90m━━━━━━━━━━━━━━━━━━━━━━━━━━━━━━━━━━━━━━━━\u001b[0m \u001b[32m3.3/3.3 MB\u001b[0m \u001b[31m15.6 MB/s\u001b[0m eta \u001b[36m0:00:00\u001b[0m\n",
            "\u001b[2K     \u001b[90m━━━━━━━━━━━━━━━━━━━━━━━━━━━━━━━━━━━━━━━━\u001b[0m \u001b[32m932.1/932.1 kB\u001b[0m \u001b[31m63.7 MB/s\u001b[0m eta \u001b[36m0:00:00\u001b[0m\n",
            "\u001b[2K     \u001b[90m━━━━━━━━━━━━━━━━━━━━━━━━━━━━━━━━━━━━━━━━\u001b[0m \u001b[32m565.0/565.0 kB\u001b[0m \u001b[31m10.8 MB/s\u001b[0m eta \u001b[36m0:00:00\u001b[0m\n",
            "\u001b[?25h  Preparing metadata (setup.py) ... \u001b[?25l\u001b[?25hdone\n",
            "  Building wheel for torch-geometric (setup.py) ... \u001b[?25l\u001b[?25hdone\n"
          ]
        }
      ],
      "source": [
        "!pip install PubChemPy\n",
        "!pip install rdkit-pypi\n",
        "!pip install deepchem\n",
        "import torch\n",
        "!pip install torchmetrics\n",
        "!pip install -q torch-scatter~=2.1.0 torch-sparse~=0.6.16 torch-cluster~=1.6.0 torch-spline-conv~=1.2.1 torch-geometric==2.2.0 -f https://data.pyg.org/whl/torch-{torch.__version__}.html\n",
        "\n"
      ]
    },
    {
      "cell_type": "code",
      "source": [
        "import random\n",
        "random.seed(0)\n",
        "import numpy as np\n",
        "np.random.seed(0)\n",
        "import torch\n",
        "torch.manual_seed(0)\n",
        "torch.cuda.manual_seed(0)\n",
        "torch.cuda.manual_seed_all(0)\n",
        "torch.backends.cudnn.deterministic = True\n",
        "torch.backends.cudnn.benchmark = False\n",
        "\n",
        "import os\n",
        "import networkx as nx\n",
        "from rdkit.Chem import MolFromSmiles\n",
        "import deepchem as dc\n",
        "from rdkit import Chem\n",
        "import numpy as np\n",
        "import pandas as pd\n",
        "from sklearn.utils import shuffle\n",
        "from sklearn.model_selection import train_test_split\n",
        "from sklearn.preprocessing import MinMaxScaler\n",
        "from sklearn.model_selection import KFold\n",
        "\n",
        "# loading BRR-ISB classes\n",
        "from preprocessing import *\n",
        "from drugomcisdataset import *\n",
        "from isb import *\n",
        "from gnn_model import *\n",
        "from model_evaluation import *\n"
      ],
      "metadata": {
        "id": "F5QiEdcFM2bk"
      },
      "execution_count": 14,
      "outputs": []
    },
    {
      "cell_type": "markdown",
      "source": [
        "# **Loading data**"
      ],
      "metadata": {
        "id": "FPh2zILsgF43"
      }
    },
    {
      "cell_type": "code",
      "source": [
        "df_ic50 = get_IC50_data()\n",
        "df_drugs= get_drug_data()\n",
        "df_rna, df_snv,df_cnv, df_omics,rna_BRR,snv_BRR,cnv_BRR = get_multi_omics()\n",
        "del rna_BRR['Cell_Lines']\n",
        "del snv_BRR['Cell_Lines']\n",
        "del cnv_BRR['Cell_Lines']"
      ],
      "metadata": {
        "id": "D_J4T5r1M7th"
      },
      "execution_count": 3,
      "outputs": []
    },
    {
      "cell_type": "markdown",
      "source": [
        "# **ISB**"
      ],
      "metadata": {
        "id": "k-L0Ya9QgILo"
      }
    },
    {
      "cell_type": "code",
      "source": [
        "data = [rna_BRR,snv_BRR,cnv_BRR]\n",
        "isb = iterative_similarity_bagging(data=data, k=300,threshold_method='half_mean',iterations=10,distance_metric='euclidean')\n",
        "\n",
        "omics, df_integrated_omics = isb.integrating_data('Cell_Lines')\n",
        "df_integrated_omics['Cell_Lines'].replace([0, 1, 2, 3, 4, 5, 6, 7, 8, 9, 10, 11, 12, 13, 14, 15, 16, 17, 18, 19, 20, 21, 22, 23, 24, 25, 26, 27, 28, 29, 30, 31, 32, 33, 34, 35, 36, 37, 38, 39, 40, 41, 42, 43, 44, 45, 46, 47, 48, 49, 50, 51, 52, 53, 54, 55, 56, 57, 58, 59, 60, 61, 62, 63, 64, 65, 66, 67, 68, 69, 70, 71, 72, 73, 74, 75, 76, 77, 78, 79, 80, 81, 82, 83, 84, 85, 86, 87, 88, 89, 90, 91, 92, 93, 94, 95, 96, 97, 98, 99, 100, 101, 102, 103, 104, 105, 106, 107, 108, 109, 110, 111, 112, 113, 114, 115, 116, 117, 118, 119, 120, 121, 122, 123, 124, 125, 126, 127, 128, 129, 130, 131, 132, 133, 134, 135, 136, 137, 138, 139, 140, 141, 142, 143, 144, 145, 146, 147, 148, 149, 150, 151, 152, 153, 154, 155, 156, 157, 158, 159, 160, 161, 162, 163, 164, 165, 166, 167, 168, 169, 170, 171, 172, 173, 174, 175, 176, 177, 178, 179, 180, 181, 182, 183, 184, 185, 186, 187, 188, 189, 190, 191, 192, 193, 194, 195, 196, 197, 198, 199, 200, 201, 202, 203, 204, 205, 206, 207, 208, 209, 210, 211, 212, 213, 214, 215, 216, 217, 218, 219, 220, 221, 222, 223, 224, 225, 226, 227, 228, 229, 230, 231, 232, 233, 234, 235, 236, 237, 238, 239, 240, 241, 242, 243, 244, 245, 246, 247, 248, 249, 250, 251, 252, 253, 254, 255, 256, 257, 258, 259, 260, 261, 262, 263, 264, 265, 266, 267, 268, 269, 270, 271, 272, 273, 274, 275, 276, 277, 278, 279, 280, 281, 282, 283, 284, 285, 286, 287, 288, 289, 290, 291, 292, 293, 294, 295, 296, 297, 298, 299, 300, 301, 302, 303, 304, 305, 306, 307, 308, 309, 310, 311, 312, 313, 314, 315, 316, 317, 318, 319, 320, 321, 322, 323, 324, 325, 326, 327, 328, 329, 330, 331, 332, 333, 334, 335, 336, 337, 338, 339, 340, 341, 342, 343, 344, 345, 346, 347, 348, 349, 350, 351, 352, 353, 354, 355, 356, 357, 358, 359, 360, 361, 362],['42-MG-BA', '5637', '639-V', '697', '769-P', '8-MG-BA', '8505C', 'A172', 'A2058', 'A2780', 'A549', 'ACHN', 'AMO-1', 'AsPC-1', 'AU565', 'BFTC-909', 'BL-41', 'BL-70', 'BT-20', 'BT-474', 'BT-549', 'BxPC-3', 'C2BBe1', 'C32', 'C3A', 'Caki-2', 'CAL-12T', 'CAL-85-1', 'Calu-1', 'Calu-3', 'Calu-6', 'CAMA-1', 'Capan-2', 'CAS-1', 'CCK-81', 'CHL-1', 'CHP-212', 'CMK-86', 'COLO-678', 'COLO-679', 'COR-L23', 'COV318', 'COV504', 'Daoy', 'DBTRG-05MG', 'DEL', 'DK-MG', 'DOHH-2', 'DV-90', 'EB2', 'EBC-1', 'EFE-184', 'EFM-19', 'EFO-21', 'EFO-27', 'EM-2', 'EN', 'ES-2', 'ESS-1', 'F-36P', 'FU-OV-1', 'FU97', 'G-361', 'G-401', 'G-402', 'GAMG', 'GCIY', 'GCT', 'GI-1', 'GMS-10', 'GRANTA-519', 'H4', 'HARA', 'HCC-15', 'HCC-44', 'HCC-56', 'HCC-78', 'HCC1187', 'HCC1395', 'HCC1569', 'HCC1806', 'HCC1954', 'HCC2935', 'HCC4006', 'HCC70', 'HCC827', 'HCT-15', 'HD-MY-Z', 'HEC-1-A', 'HEC-151', 'HEC-251', 'HEC-265', 'HEC-59', 'HEC-6', 'Hep G2', 'Hey-A8', 'HGC-27', 'HH', 'HLF', 'HOS', 'HPAC', 'HPAF-II', 'Hs 294T', 'Hs 683', 'Hs 695T', 'Hs 729', 'Hs 746T', 'Hs 766T', 'Hs 852.T', 'Hs 936.T', 'Hs 939.T', 'Hs 944.T', 'HSC-2', 'HT-1080', 'HT-1197', 'HT-1376', 'HT-144', 'HT-29', 'HuCCT1', 'HuT 78', 'IA-LM', 'IGR-37', 'IPC-298', 'Ishikawa (Heraklio) 02 ER-', 'IST-MES1', 'IST-MES2', 'J82', 'JHH-2', 'JHH-4', 'JHH-5', 'JHH-6', 'JHH-7', 'JHOS-2', 'JHOS-4', 'JHUEM-2', 'JM1', 'JMSU-1', 'JVM-3', 'K029AX', 'KALS-1', 'KARPAS-620', 'KCI-MOH1', 'KCL-22', 'KE-39', 'KE-97', 'KG-1', 'KHM-1B', 'KLE', 'KMBC-2', 'KMM-1', 'KMRC-1', 'KMRC-2', 'KMS-11', 'KMS-12-BM', 'KMS-26', 'KMS-34', 'KNS-42', 'KNS-60', 'KNS-62', 'KP-2', 'KP-3', 'KU812', 'KURAMOCHI', 'KYM-1', 'KYSE-140', 'KYSE-150', 'KYSE-180', 'KYSE-30', 'KYSE-410', 'KYSE-450', 'KYSE-510', 'KYSE-520', 'KYSE-70', 'L-363', 'L-428', 'L3.3', 'LC-1/sq-SF', 'LCLC-103H', 'LN-18', 'LN-229', 'LOU-NH91', 'LP-1', 'LUDLU-1', 'Malme-3M', 'MCAS', 'MCF7', 'MDA-MB-415', 'MDA-MB-436', 'MDA-MB-453', 'MEC-1', 'MEL-HO', 'MFE-280', 'MFE-296', 'MG-63', 'MHH-ES-1', 'Mino', 'MJ', 'MKN7', 'MKN74', 'MOLP-8', 'MOLT-16', 'MONO-MAC-1', 'MOR/CPR', 'MSTO-211H', 'NCI-H1048', 'NCI-H1155', 'NCI-H1299', 'NCI-H1339', 'NCI-H1341', 'NCI-H1355', 'NCI-H1373', 'NCI-H1563', 'NCI-H1568', 'NCI-H1573', 'NCI-H1581', 'NCI-H1648', 'NCI-H1650', 'NCI-H1651', 'NCI-H1666', 'NCI-H1693', 'NCI-H1694', 'NCI-H1703', 'NCI-H1792', 'NCI-H1793', 'NCI-H1869', 'NCI-H1915', 'NCI-H1944', 'NCI-H1975', 'NCI-H2009', 'NCI-H2023', 'NCI-H2030', 'NCI-H2052', 'NCI-H2087', 'NCI-H211', 'NCI-H2122', 'NCI-H2170', 'NCI-H2172', 'NCI-H2228', 'NCI-H226', 'NCI-H2286', 'NCI-H23', 'NCI-H2444', 'NCI-H2452', 'NCI-H28', 'NCI-H358', 'NCI-H441', 'NCI-H460', 'NCI-H520', 'NCI-H522', 'NCI-H650', 'NCI-H661', 'NCI-H727', 'NCI-H747', 'NCI-H810', 'NCI-N87', 'NCO2', 'NUGC-3', 'NUGC-4', 'OC 316', 'OCI-AML2', 'OCI-AML5', 'OE33', 'ONS-76', 'OPM-2', 'OV-90', 'OVCAR-4', 'OVCAR-8', 'OVMANA', 'OVSAHO', 'OVTOKO', 'P12-ICHIKAWA', 'P3HR-1', 'PA-TU-8902', 'Panc 02.03', 'Panc 04.03', 'PC-14', 'PC-3', 'Pfeiffer', 'PK-1', 'PK-45H', 'PK-59', 'PL45', 'PSN1', 'QGP-1', 'Raji', 'RD', 'RERF-GC-1B', 'RERF-LC-MS', 'RKO', 'RL95-2', 'RPMI-7951', 'RPMI-8402', 'RT-112', 'RT4', 'RVH-421', 'SBC-5', 'SCaBER', 'SCC-9', 'SF126', 'SH-10-TC', 'SHP-77', 'SIG-M5', 'SIMA', 'SJRH30', 'SJSA-1', 'SK-BR-3', 'SK-CO-1', 'SK-ES-1', 'SK-HEP-1', 'SK-LMS-1', 'SK-LU-1', 'SK-MEL-2', 'SK-MEL-24', 'SK-MEL-30', 'SK-MEL-5', 'SK-MES-1', 'SK-N-AS', 'SK-N-DZ', 'SK-N-FI', 'SK-N-SH', 'SK-OV-3', 'SNG-M', 'SNU-182', 'SNU-C2A', 'Sq-1', 'SU-DHL-10', 'SU-DHL-4', 'SU-DHL-6', 'SU-DHL-8', 'SUIT-2', 'SUP-M2', 'SUP-T1', 'SW 1271', 'SW 1353', 'SW1417', 'SW48', 'SW480', 'SW579', 'SW620', 'T84', 'T98G', 'TC-71', 'TCCSUP', 'TE-5', 'TE-9', 'TEN', 'Toledo', 'TOV-112D', 'TOV-21G', 'TT2609-C02', 'TYK-nu', 'U-937', 'UACC-62', 'UACC-812', 'UM-UC-3', 'VMRC-RCZ', 'WM-115', 'WM-266-4', 'WM-793', 'WM-88', 'WM-983B', 'WM1799', 'ZR-75-30'],\n",
        "                              inplace=True)\n",
        "df_integrated_omics"
      ],
      "metadata": {
        "colab": {
          "base_uri": "https://localhost:8080/",
          "height": 461
        },
        "id": "PWVJa5WpN-gT",
        "outputId": "e14561ea-bdac-4fa3-8551-d886e4384409"
      },
      "execution_count": 4,
      "outputs": [
        {
          "output_type": "execute_result",
          "data": {
            "text/plain": [
              "    Cell_Lines        MOK      WLS_x     CLIC3   CYP1B1_x     EDIL3      MLF1  \\\n",
              "0     42-MG-BA   6.081980  10.375782  4.150382   8.554277  9.150456  8.575767   \n",
              "1         5637   7.017504   9.573340  3.665178   5.669042  4.477832  7.047965   \n",
              "2        639-V  10.469009   8.584185  3.724760   4.244010  5.800868  9.800605   \n",
              "3          697   8.043542   3.934450  3.891775   4.253569  4.773978  4.787963   \n",
              "4        769-P   5.407182   7.823107  3.692883   4.144238  5.263656  6.636440   \n",
              "..         ...        ...        ...       ...        ...       ...       ...   \n",
              "358     WM-793  11.549735   9.363649  3.539336   7.359857  4.888181  8.488597   \n",
              "359      WM-88  10.213064   8.231410  3.739477   4.107425  4.969206  8.441073   \n",
              "360    WM-983B   7.274885   9.234453  3.784688   4.006669  5.311126  9.363000   \n",
              "361     WM1799   8.753378   8.897160  3.541153   4.493657  4.975493  8.303003   \n",
              "362   ZR-75-30   5.849796   8.054499  3.760272  10.718815  4.510447  6.854565   \n",
              "\n",
              "        NANOS1     SOX11      CXCL6  ...  PTPRD-AS1  LINC00408    SRSF6  \\\n",
              "0     7.715567  8.180831   3.909679  ...    0.85215    0.50608  1.04486   \n",
              "1     7.102886  3.683733  10.612357  ...    1.03552    0.53400  0.95049   \n",
              "2     5.164811  3.881054   3.801142  ...    0.72133    0.88512  1.05192   \n",
              "3     5.164642  8.685346   3.621451  ...    0.86091    0.82154  0.79121   \n",
              "4     6.206447  3.751495   3.734221  ...    0.80438    0.78218  0.73491   \n",
              "..         ...       ...        ...  ...        ...        ...      ...   \n",
              "358   6.153155  3.659266   4.072215  ...    0.69369    0.68440  0.99326   \n",
              "359  10.408115  3.749049   4.104387  ...    0.37519    0.91015  1.02288   \n",
              "360   6.061585  3.836235   3.789227  ...    0.35138    0.60880  1.21502   \n",
              "361   9.717947  3.616015   3.811336  ...    0.70042    1.17699  0.92511   \n",
              "362   6.858370  4.823464   3.757949  ...    0.66445    0.65684  0.71516   \n",
              "\n",
              "     ITGA6_y   NKAIN2  MIR1208  DOCK9-AS2  ADAMTS3     ST13   ZBTB22  \n",
              "0    0.90253  0.67416  0.82340    0.50608  0.63939  0.73640  0.67416  \n",
              "1    0.78484  0.81917  0.73836    1.03535  0.55457  0.79618  0.52659  \n",
              "2    0.67188  0.87543  0.92845    0.88512  0.69664  1.04956  0.87543  \n",
              "3    0.79310  0.39940  1.03857    0.82154  0.80080  0.90606  0.79826  \n",
              "4    0.76193  0.74955  1.02945    0.78869  0.78346  0.83141  0.76298  \n",
              "..       ...      ...      ...        ...      ...      ...      ...  \n",
              "358  0.89574  0.71748  0.82213    0.68440  0.69674  0.67222  0.71748  \n",
              "359  0.84662  0.70669  0.63855    0.91015  0.75455  0.73546  0.82720  \n",
              "360  0.88457  0.68191  1.02377    0.64572  0.70442  0.88587  0.79567  \n",
              "361  0.69174  0.71203  1.19054    1.17699  0.73015  1.07091  0.71203  \n",
              "362  0.65812  0.69673  2.24975    0.88416  0.95689  0.79983  0.85996  \n",
              "\n",
              "[363 rows x 1305 columns]"
            ],
            "text/html": [
              "\n",
              "  <div id=\"df-b576dc99-0ceb-4531-9938-5a029a8fe0a5\" class=\"colab-df-container\">\n",
              "    <div>\n",
              "<style scoped>\n",
              "    .dataframe tbody tr th:only-of-type {\n",
              "        vertical-align: middle;\n",
              "    }\n",
              "\n",
              "    .dataframe tbody tr th {\n",
              "        vertical-align: top;\n",
              "    }\n",
              "\n",
              "    .dataframe thead th {\n",
              "        text-align: right;\n",
              "    }\n",
              "</style>\n",
              "<table border=\"1\" class=\"dataframe\">\n",
              "  <thead>\n",
              "    <tr style=\"text-align: right;\">\n",
              "      <th></th>\n",
              "      <th>Cell_Lines</th>\n",
              "      <th>MOK</th>\n",
              "      <th>WLS_x</th>\n",
              "      <th>CLIC3</th>\n",
              "      <th>CYP1B1_x</th>\n",
              "      <th>EDIL3</th>\n",
              "      <th>MLF1</th>\n",
              "      <th>NANOS1</th>\n",
              "      <th>SOX11</th>\n",
              "      <th>CXCL6</th>\n",
              "      <th>...</th>\n",
              "      <th>PTPRD-AS1</th>\n",
              "      <th>LINC00408</th>\n",
              "      <th>SRSF6</th>\n",
              "      <th>ITGA6_y</th>\n",
              "      <th>NKAIN2</th>\n",
              "      <th>MIR1208</th>\n",
              "      <th>DOCK9-AS2</th>\n",
              "      <th>ADAMTS3</th>\n",
              "      <th>ST13</th>\n",
              "      <th>ZBTB22</th>\n",
              "    </tr>\n",
              "  </thead>\n",
              "  <tbody>\n",
              "    <tr>\n",
              "      <th>0</th>\n",
              "      <td>42-MG-BA</td>\n",
              "      <td>6.081980</td>\n",
              "      <td>10.375782</td>\n",
              "      <td>4.150382</td>\n",
              "      <td>8.554277</td>\n",
              "      <td>9.150456</td>\n",
              "      <td>8.575767</td>\n",
              "      <td>7.715567</td>\n",
              "      <td>8.180831</td>\n",
              "      <td>3.909679</td>\n",
              "      <td>...</td>\n",
              "      <td>0.85215</td>\n",
              "      <td>0.50608</td>\n",
              "      <td>1.04486</td>\n",
              "      <td>0.90253</td>\n",
              "      <td>0.67416</td>\n",
              "      <td>0.82340</td>\n",
              "      <td>0.50608</td>\n",
              "      <td>0.63939</td>\n",
              "      <td>0.73640</td>\n",
              "      <td>0.67416</td>\n",
              "    </tr>\n",
              "    <tr>\n",
              "      <th>1</th>\n",
              "      <td>5637</td>\n",
              "      <td>7.017504</td>\n",
              "      <td>9.573340</td>\n",
              "      <td>3.665178</td>\n",
              "      <td>5.669042</td>\n",
              "      <td>4.477832</td>\n",
              "      <td>7.047965</td>\n",
              "      <td>7.102886</td>\n",
              "      <td>3.683733</td>\n",
              "      <td>10.612357</td>\n",
              "      <td>...</td>\n",
              "      <td>1.03552</td>\n",
              "      <td>0.53400</td>\n",
              "      <td>0.95049</td>\n",
              "      <td>0.78484</td>\n",
              "      <td>0.81917</td>\n",
              "      <td>0.73836</td>\n",
              "      <td>1.03535</td>\n",
              "      <td>0.55457</td>\n",
              "      <td>0.79618</td>\n",
              "      <td>0.52659</td>\n",
              "    </tr>\n",
              "    <tr>\n",
              "      <th>2</th>\n",
              "      <td>639-V</td>\n",
              "      <td>10.469009</td>\n",
              "      <td>8.584185</td>\n",
              "      <td>3.724760</td>\n",
              "      <td>4.244010</td>\n",
              "      <td>5.800868</td>\n",
              "      <td>9.800605</td>\n",
              "      <td>5.164811</td>\n",
              "      <td>3.881054</td>\n",
              "      <td>3.801142</td>\n",
              "      <td>...</td>\n",
              "      <td>0.72133</td>\n",
              "      <td>0.88512</td>\n",
              "      <td>1.05192</td>\n",
              "      <td>0.67188</td>\n",
              "      <td>0.87543</td>\n",
              "      <td>0.92845</td>\n",
              "      <td>0.88512</td>\n",
              "      <td>0.69664</td>\n",
              "      <td>1.04956</td>\n",
              "      <td>0.87543</td>\n",
              "    </tr>\n",
              "    <tr>\n",
              "      <th>3</th>\n",
              "      <td>697</td>\n",
              "      <td>8.043542</td>\n",
              "      <td>3.934450</td>\n",
              "      <td>3.891775</td>\n",
              "      <td>4.253569</td>\n",
              "      <td>4.773978</td>\n",
              "      <td>4.787963</td>\n",
              "      <td>5.164642</td>\n",
              "      <td>8.685346</td>\n",
              "      <td>3.621451</td>\n",
              "      <td>...</td>\n",
              "      <td>0.86091</td>\n",
              "      <td>0.82154</td>\n",
              "      <td>0.79121</td>\n",
              "      <td>0.79310</td>\n",
              "      <td>0.39940</td>\n",
              "      <td>1.03857</td>\n",
              "      <td>0.82154</td>\n",
              "      <td>0.80080</td>\n",
              "      <td>0.90606</td>\n",
              "      <td>0.79826</td>\n",
              "    </tr>\n",
              "    <tr>\n",
              "      <th>4</th>\n",
              "      <td>769-P</td>\n",
              "      <td>5.407182</td>\n",
              "      <td>7.823107</td>\n",
              "      <td>3.692883</td>\n",
              "      <td>4.144238</td>\n",
              "      <td>5.263656</td>\n",
              "      <td>6.636440</td>\n",
              "      <td>6.206447</td>\n",
              "      <td>3.751495</td>\n",
              "      <td>3.734221</td>\n",
              "      <td>...</td>\n",
              "      <td>0.80438</td>\n",
              "      <td>0.78218</td>\n",
              "      <td>0.73491</td>\n",
              "      <td>0.76193</td>\n",
              "      <td>0.74955</td>\n",
              "      <td>1.02945</td>\n",
              "      <td>0.78869</td>\n",
              "      <td>0.78346</td>\n",
              "      <td>0.83141</td>\n",
              "      <td>0.76298</td>\n",
              "    </tr>\n",
              "    <tr>\n",
              "      <th>...</th>\n",
              "      <td>...</td>\n",
              "      <td>...</td>\n",
              "      <td>...</td>\n",
              "      <td>...</td>\n",
              "      <td>...</td>\n",
              "      <td>...</td>\n",
              "      <td>...</td>\n",
              "      <td>...</td>\n",
              "      <td>...</td>\n",
              "      <td>...</td>\n",
              "      <td>...</td>\n",
              "      <td>...</td>\n",
              "      <td>...</td>\n",
              "      <td>...</td>\n",
              "      <td>...</td>\n",
              "      <td>...</td>\n",
              "      <td>...</td>\n",
              "      <td>...</td>\n",
              "      <td>...</td>\n",
              "      <td>...</td>\n",
              "      <td>...</td>\n",
              "    </tr>\n",
              "    <tr>\n",
              "      <th>358</th>\n",
              "      <td>WM-793</td>\n",
              "      <td>11.549735</td>\n",
              "      <td>9.363649</td>\n",
              "      <td>3.539336</td>\n",
              "      <td>7.359857</td>\n",
              "      <td>4.888181</td>\n",
              "      <td>8.488597</td>\n",
              "      <td>6.153155</td>\n",
              "      <td>3.659266</td>\n",
              "      <td>4.072215</td>\n",
              "      <td>...</td>\n",
              "      <td>0.69369</td>\n",
              "      <td>0.68440</td>\n",
              "      <td>0.99326</td>\n",
              "      <td>0.89574</td>\n",
              "      <td>0.71748</td>\n",
              "      <td>0.82213</td>\n",
              "      <td>0.68440</td>\n",
              "      <td>0.69674</td>\n",
              "      <td>0.67222</td>\n",
              "      <td>0.71748</td>\n",
              "    </tr>\n",
              "    <tr>\n",
              "      <th>359</th>\n",
              "      <td>WM-88</td>\n",
              "      <td>10.213064</td>\n",
              "      <td>8.231410</td>\n",
              "      <td>3.739477</td>\n",
              "      <td>4.107425</td>\n",
              "      <td>4.969206</td>\n",
              "      <td>8.441073</td>\n",
              "      <td>10.408115</td>\n",
              "      <td>3.749049</td>\n",
              "      <td>4.104387</td>\n",
              "      <td>...</td>\n",
              "      <td>0.37519</td>\n",
              "      <td>0.91015</td>\n",
              "      <td>1.02288</td>\n",
              "      <td>0.84662</td>\n",
              "      <td>0.70669</td>\n",
              "      <td>0.63855</td>\n",
              "      <td>0.91015</td>\n",
              "      <td>0.75455</td>\n",
              "      <td>0.73546</td>\n",
              "      <td>0.82720</td>\n",
              "    </tr>\n",
              "    <tr>\n",
              "      <th>360</th>\n",
              "      <td>WM-983B</td>\n",
              "      <td>7.274885</td>\n",
              "      <td>9.234453</td>\n",
              "      <td>3.784688</td>\n",
              "      <td>4.006669</td>\n",
              "      <td>5.311126</td>\n",
              "      <td>9.363000</td>\n",
              "      <td>6.061585</td>\n",
              "      <td>3.836235</td>\n",
              "      <td>3.789227</td>\n",
              "      <td>...</td>\n",
              "      <td>0.35138</td>\n",
              "      <td>0.60880</td>\n",
              "      <td>1.21502</td>\n",
              "      <td>0.88457</td>\n",
              "      <td>0.68191</td>\n",
              "      <td>1.02377</td>\n",
              "      <td>0.64572</td>\n",
              "      <td>0.70442</td>\n",
              "      <td>0.88587</td>\n",
              "      <td>0.79567</td>\n",
              "    </tr>\n",
              "    <tr>\n",
              "      <th>361</th>\n",
              "      <td>WM1799</td>\n",
              "      <td>8.753378</td>\n",
              "      <td>8.897160</td>\n",
              "      <td>3.541153</td>\n",
              "      <td>4.493657</td>\n",
              "      <td>4.975493</td>\n",
              "      <td>8.303003</td>\n",
              "      <td>9.717947</td>\n",
              "      <td>3.616015</td>\n",
              "      <td>3.811336</td>\n",
              "      <td>...</td>\n",
              "      <td>0.70042</td>\n",
              "      <td>1.17699</td>\n",
              "      <td>0.92511</td>\n",
              "      <td>0.69174</td>\n",
              "      <td>0.71203</td>\n",
              "      <td>1.19054</td>\n",
              "      <td>1.17699</td>\n",
              "      <td>0.73015</td>\n",
              "      <td>1.07091</td>\n",
              "      <td>0.71203</td>\n",
              "    </tr>\n",
              "    <tr>\n",
              "      <th>362</th>\n",
              "      <td>ZR-75-30</td>\n",
              "      <td>5.849796</td>\n",
              "      <td>8.054499</td>\n",
              "      <td>3.760272</td>\n",
              "      <td>10.718815</td>\n",
              "      <td>4.510447</td>\n",
              "      <td>6.854565</td>\n",
              "      <td>6.858370</td>\n",
              "      <td>4.823464</td>\n",
              "      <td>3.757949</td>\n",
              "      <td>...</td>\n",
              "      <td>0.66445</td>\n",
              "      <td>0.65684</td>\n",
              "      <td>0.71516</td>\n",
              "      <td>0.65812</td>\n",
              "      <td>0.69673</td>\n",
              "      <td>2.24975</td>\n",
              "      <td>0.88416</td>\n",
              "      <td>0.95689</td>\n",
              "      <td>0.79983</td>\n",
              "      <td>0.85996</td>\n",
              "    </tr>\n",
              "  </tbody>\n",
              "</table>\n",
              "<p>363 rows × 1305 columns</p>\n",
              "</div>\n",
              "    <div class=\"colab-df-buttons\">\n",
              "\n",
              "  <div class=\"colab-df-container\">\n",
              "    <button class=\"colab-df-convert\" onclick=\"convertToInteractive('df-b576dc99-0ceb-4531-9938-5a029a8fe0a5')\"\n",
              "            title=\"Convert this dataframe to an interactive table.\"\n",
              "            style=\"display:none;\">\n",
              "\n",
              "  <svg xmlns=\"http://www.w3.org/2000/svg\" height=\"24px\" viewBox=\"0 -960 960 960\">\n",
              "    <path d=\"M120-120v-720h720v720H120Zm60-500h600v-160H180v160Zm220 220h160v-160H400v160Zm0 220h160v-160H400v160ZM180-400h160v-160H180v160Zm440 0h160v-160H620v160ZM180-180h160v-160H180v160Zm440 0h160v-160H620v160Z\"/>\n",
              "  </svg>\n",
              "    </button>\n",
              "\n",
              "  <style>\n",
              "    .colab-df-container {\n",
              "      display:flex;\n",
              "      gap: 12px;\n",
              "    }\n",
              "\n",
              "    .colab-df-convert {\n",
              "      background-color: #E8F0FE;\n",
              "      border: none;\n",
              "      border-radius: 50%;\n",
              "      cursor: pointer;\n",
              "      display: none;\n",
              "      fill: #1967D2;\n",
              "      height: 32px;\n",
              "      padding: 0 0 0 0;\n",
              "      width: 32px;\n",
              "    }\n",
              "\n",
              "    .colab-df-convert:hover {\n",
              "      background-color: #E2EBFA;\n",
              "      box-shadow: 0px 1px 2px rgba(60, 64, 67, 0.3), 0px 1px 3px 1px rgba(60, 64, 67, 0.15);\n",
              "      fill: #174EA6;\n",
              "    }\n",
              "\n",
              "    .colab-df-buttons div {\n",
              "      margin-bottom: 4px;\n",
              "    }\n",
              "\n",
              "    [theme=dark] .colab-df-convert {\n",
              "      background-color: #3B4455;\n",
              "      fill: #D2E3FC;\n",
              "    }\n",
              "\n",
              "    [theme=dark] .colab-df-convert:hover {\n",
              "      background-color: #434B5C;\n",
              "      box-shadow: 0px 1px 3px 1px rgba(0, 0, 0, 0.15);\n",
              "      filter: drop-shadow(0px 1px 2px rgba(0, 0, 0, 0.3));\n",
              "      fill: #FFFFFF;\n",
              "    }\n",
              "  </style>\n",
              "\n",
              "    <script>\n",
              "      const buttonEl =\n",
              "        document.querySelector('#df-b576dc99-0ceb-4531-9938-5a029a8fe0a5 button.colab-df-convert');\n",
              "      buttonEl.style.display =\n",
              "        google.colab.kernel.accessAllowed ? 'block' : 'none';\n",
              "\n",
              "      async function convertToInteractive(key) {\n",
              "        const element = document.querySelector('#df-b576dc99-0ceb-4531-9938-5a029a8fe0a5');\n",
              "        const dataTable =\n",
              "          await google.colab.kernel.invokeFunction('convertToInteractive',\n",
              "                                                    [key], {});\n",
              "        if (!dataTable) return;\n",
              "\n",
              "        const docLinkHtml = 'Like what you see? Visit the ' +\n",
              "          '<a target=\"_blank\" href=https://colab.research.google.com/notebooks/data_table.ipynb>data table notebook</a>'\n",
              "          + ' to learn more about interactive tables.';\n",
              "        element.innerHTML = '';\n",
              "        dataTable['output_type'] = 'display_data';\n",
              "        await google.colab.output.renderOutput(dataTable, element);\n",
              "        const docLink = document.createElement('div');\n",
              "        docLink.innerHTML = docLinkHtml;\n",
              "        element.appendChild(docLink);\n",
              "      }\n",
              "    </script>\n",
              "  </div>\n",
              "\n",
              "\n",
              "<div id=\"df-0c7dcfe4-a41f-4fd3-b638-45eaf5719845\">\n",
              "  <button class=\"colab-df-quickchart\" onclick=\"quickchart('df-0c7dcfe4-a41f-4fd3-b638-45eaf5719845')\"\n",
              "            title=\"Suggest charts\"\n",
              "            style=\"display:none;\">\n",
              "\n",
              "<svg xmlns=\"http://www.w3.org/2000/svg\" height=\"24px\"viewBox=\"0 0 24 24\"\n",
              "     width=\"24px\">\n",
              "    <g>\n",
              "        <path d=\"M19 3H5c-1.1 0-2 .9-2 2v14c0 1.1.9 2 2 2h14c1.1 0 2-.9 2-2V5c0-1.1-.9-2-2-2zM9 17H7v-7h2v7zm4 0h-2V7h2v10zm4 0h-2v-4h2v4z\"/>\n",
              "    </g>\n",
              "</svg>\n",
              "  </button>\n",
              "\n",
              "<style>\n",
              "  .colab-df-quickchart {\n",
              "      --bg-color: #E8F0FE;\n",
              "      --fill-color: #1967D2;\n",
              "      --hover-bg-color: #E2EBFA;\n",
              "      --hover-fill-color: #174EA6;\n",
              "      --disabled-fill-color: #AAA;\n",
              "      --disabled-bg-color: #DDD;\n",
              "  }\n",
              "\n",
              "  [theme=dark] .colab-df-quickchart {\n",
              "      --bg-color: #3B4455;\n",
              "      --fill-color: #D2E3FC;\n",
              "      --hover-bg-color: #434B5C;\n",
              "      --hover-fill-color: #FFFFFF;\n",
              "      --disabled-bg-color: #3B4455;\n",
              "      --disabled-fill-color: #666;\n",
              "  }\n",
              "\n",
              "  .colab-df-quickchart {\n",
              "    background-color: var(--bg-color);\n",
              "    border: none;\n",
              "    border-radius: 50%;\n",
              "    cursor: pointer;\n",
              "    display: none;\n",
              "    fill: var(--fill-color);\n",
              "    height: 32px;\n",
              "    padding: 0;\n",
              "    width: 32px;\n",
              "  }\n",
              "\n",
              "  .colab-df-quickchart:hover {\n",
              "    background-color: var(--hover-bg-color);\n",
              "    box-shadow: 0 1px 2px rgba(60, 64, 67, 0.3), 0 1px 3px 1px rgba(60, 64, 67, 0.15);\n",
              "    fill: var(--button-hover-fill-color);\n",
              "  }\n",
              "\n",
              "  .colab-df-quickchart-complete:disabled,\n",
              "  .colab-df-quickchart-complete:disabled:hover {\n",
              "    background-color: var(--disabled-bg-color);\n",
              "    fill: var(--disabled-fill-color);\n",
              "    box-shadow: none;\n",
              "  }\n",
              "\n",
              "  .colab-df-spinner {\n",
              "    border: 2px solid var(--fill-color);\n",
              "    border-color: transparent;\n",
              "    border-bottom-color: var(--fill-color);\n",
              "    animation:\n",
              "      spin 1s steps(1) infinite;\n",
              "  }\n",
              "\n",
              "  @keyframes spin {\n",
              "    0% {\n",
              "      border-color: transparent;\n",
              "      border-bottom-color: var(--fill-color);\n",
              "      border-left-color: var(--fill-color);\n",
              "    }\n",
              "    20% {\n",
              "      border-color: transparent;\n",
              "      border-left-color: var(--fill-color);\n",
              "      border-top-color: var(--fill-color);\n",
              "    }\n",
              "    30% {\n",
              "      border-color: transparent;\n",
              "      border-left-color: var(--fill-color);\n",
              "      border-top-color: var(--fill-color);\n",
              "      border-right-color: var(--fill-color);\n",
              "    }\n",
              "    40% {\n",
              "      border-color: transparent;\n",
              "      border-right-color: var(--fill-color);\n",
              "      border-top-color: var(--fill-color);\n",
              "    }\n",
              "    60% {\n",
              "      border-color: transparent;\n",
              "      border-right-color: var(--fill-color);\n",
              "    }\n",
              "    80% {\n",
              "      border-color: transparent;\n",
              "      border-right-color: var(--fill-color);\n",
              "      border-bottom-color: var(--fill-color);\n",
              "    }\n",
              "    90% {\n",
              "      border-color: transparent;\n",
              "      border-bottom-color: var(--fill-color);\n",
              "    }\n",
              "  }\n",
              "</style>\n",
              "\n",
              "  <script>\n",
              "    async function quickchart(key) {\n",
              "      const quickchartButtonEl =\n",
              "        document.querySelector('#' + key + ' button');\n",
              "      quickchartButtonEl.disabled = true;  // To prevent multiple clicks.\n",
              "      quickchartButtonEl.classList.add('colab-df-spinner');\n",
              "      try {\n",
              "        const charts = await google.colab.kernel.invokeFunction(\n",
              "            'suggestCharts', [key], {});\n",
              "      } catch (error) {\n",
              "        console.error('Error during call to suggestCharts:', error);\n",
              "      }\n",
              "      quickchartButtonEl.classList.remove('colab-df-spinner');\n",
              "      quickchartButtonEl.classList.add('colab-df-quickchart-complete');\n",
              "    }\n",
              "    (() => {\n",
              "      let quickchartButtonEl =\n",
              "        document.querySelector('#df-0c7dcfe4-a41f-4fd3-b638-45eaf5719845 button');\n",
              "      quickchartButtonEl.style.display =\n",
              "        google.colab.kernel.accessAllowed ? 'block' : 'none';\n",
              "    })();\n",
              "  </script>\n",
              "</div>\n",
              "\n",
              "  <div id=\"id_016edf48-137a-43ac-b646-bc43acdd6b6f\">\n",
              "    <style>\n",
              "      .colab-df-generate {\n",
              "        background-color: #E8F0FE;\n",
              "        border: none;\n",
              "        border-radius: 50%;\n",
              "        cursor: pointer;\n",
              "        display: none;\n",
              "        fill: #1967D2;\n",
              "        height: 32px;\n",
              "        padding: 0 0 0 0;\n",
              "        width: 32px;\n",
              "      }\n",
              "\n",
              "      .colab-df-generate:hover {\n",
              "        background-color: #E2EBFA;\n",
              "        box-shadow: 0px 1px 2px rgba(60, 64, 67, 0.3), 0px 1px 3px 1px rgba(60, 64, 67, 0.15);\n",
              "        fill: #174EA6;\n",
              "      }\n",
              "\n",
              "      [theme=dark] .colab-df-generate {\n",
              "        background-color: #3B4455;\n",
              "        fill: #D2E3FC;\n",
              "      }\n",
              "\n",
              "      [theme=dark] .colab-df-generate:hover {\n",
              "        background-color: #434B5C;\n",
              "        box-shadow: 0px 1px 3px 1px rgba(0, 0, 0, 0.15);\n",
              "        filter: drop-shadow(0px 1px 2px rgba(0, 0, 0, 0.3));\n",
              "        fill: #FFFFFF;\n",
              "      }\n",
              "    </style>\n",
              "    <button class=\"colab-df-generate\" onclick=\"generateWithVariable('df_integrated_omics')\"\n",
              "            title=\"Generate code using this dataframe.\"\n",
              "            style=\"display:none;\">\n",
              "\n",
              "  <svg xmlns=\"http://www.w3.org/2000/svg\" height=\"24px\"viewBox=\"0 0 24 24\"\n",
              "       width=\"24px\">\n",
              "    <path d=\"M7,19H8.4L18.45,9,17,7.55,7,17.6ZM5,21V16.75L18.45,3.32a2,2,0,0,1,2.83,0l1.4,1.43a1.91,1.91,0,0,1,.58,1.4,1.91,1.91,0,0,1-.58,1.4L9.25,21ZM18.45,9,17,7.55Zm-12,3A5.31,5.31,0,0,0,4.9,8.1,5.31,5.31,0,0,0,1,6.5,5.31,5.31,0,0,0,4.9,4.9,5.31,5.31,0,0,0,6.5,1,5.31,5.31,0,0,0,8.1,4.9,5.31,5.31,0,0,0,12,6.5,5.46,5.46,0,0,0,6.5,12Z\"/>\n",
              "  </svg>\n",
              "    </button>\n",
              "    <script>\n",
              "      (() => {\n",
              "      const buttonEl =\n",
              "        document.querySelector('#id_016edf48-137a-43ac-b646-bc43acdd6b6f button.colab-df-generate');\n",
              "      buttonEl.style.display =\n",
              "        google.colab.kernel.accessAllowed ? 'block' : 'none';\n",
              "\n",
              "      buttonEl.onclick = () => {\n",
              "        google.colab.notebook.generateWithVariable('df_integrated_omics');\n",
              "      }\n",
              "      })();\n",
              "    </script>\n",
              "  </div>\n",
              "\n",
              "    </div>\n",
              "  </div>\n"
            ]
          },
          "metadata": {},
          "execution_count": 4
        }
      ]
    },
    {
      "cell_type": "markdown",
      "source": [
        "**Splitting data into training, validation, and testing**"
      ],
      "metadata": {
        "id": "CjcR0-IfiisL"
      }
    },
    {
      "cell_type": "code",
      "source": [
        "y_label, x_drug_train,x_drug_val,x_drug_test,x_omics_train,x_omics_val,x_omics_test,y_train,y_val,y_test = get_train_test_date(df_ic50,df_integrated_omics,df_drugs)"
      ],
      "metadata": {
        "id": "1nFtR6yTieYO"
      },
      "execution_count": 6,
      "outputs": []
    },
    {
      "cell_type": "markdown",
      "source": [
        "# **Creating Dataset**"
      ],
      "metadata": {
        "id": "OLRRPcSJgQQH"
      }
    },
    {
      "cell_type": "code",
      "source": [
        "%rm -rf data"
      ],
      "metadata": {
        "id": "EaADs_BKfRHL"
      },
      "execution_count": 11,
      "outputs": []
    },
    {
      "cell_type": "code",
      "source": [
        "training_set = DrugOmcisDataset(root='data/', dataset='train0', x_omics=x_omics_train, x_drug=x_drug_train, y=y_train)\n",
        "validation_set = DrugOmcisDataset(root='data/', dataset='val0', x_omics=x_omics_val, x_drug=x_drug_val, y=y_val)\n",
        "testing_set = DrugOmcisDataset(root='data/', dataset='test0', x_omics=x_omics_test, x_drug=x_drug_test, y=y_test)\n"
      ],
      "metadata": {
        "id": "9wwJIK8yW_4W"
      },
      "execution_count": 8,
      "outputs": []
    },
    {
      "cell_type": "markdown",
      "source": [
        "# **Training**"
      ],
      "metadata": {
        "id": "GPI84_PqgeF8"
      }
    },
    {
      "cell_type": "code",
      "source": [
        "import torch\n",
        "from tqdm import tqdm\n",
        "from torch_geometric.loader import DataLoader\n",
        "from gnn_model import *\n",
        "from model_evaluation import *\n",
        "\n",
        "def train_one_epoch(model, train_loader, device,epoch,optimizer,criterion):\n",
        "  total_loss = 0\n",
        "  train_preds = torch.Tensor()\n",
        "  train_targets = torch.Tensor()\n",
        "\n",
        "  print('epoch {}, Training samples {}'.format(str(epoch),len(train_loader.dataset)))\n",
        "  # Train on batches\n",
        "  for _, data in enumerate(tqdm(train_loader)):\n",
        "            optimizer.zero_grad()\n",
        "            data = data.to(device)\n",
        "            out, x = model(data)\n",
        "            loss = criterion(out, data.y.view(-1, 1).float().to(device))\n",
        "            total_loss += loss.item()\n",
        "            train_preds = torch.cat((train_preds, out.cpu().detach()), 0)\n",
        "            train_targets = torch.cat((train_targets, data.y.view(-1, 1).cpu().detach()), 0)\n",
        "\n",
        "            loss.backward()\n",
        "            optimizer.step()\n",
        "\n",
        "  return total_loss, train_preds,train_targets\n",
        "\n",
        "\n",
        "def test(model, test_loader, device):\n",
        "    criterion = torch.nn.MSELoss()\n",
        "    model.eval()\n",
        "    loss = 0\n",
        "    test_preds = torch.Tensor()\n",
        "    test_targets = torch.Tensor()\n",
        "    with torch.no_grad():\n",
        "      for _, data in enumerate(tqdm(test_loader)):\n",
        "        data = data.to(device)\n",
        "        out, x = model(data)\n",
        "        loss += criterion(out, data.y.view(-1, 1).float().to(device)).item()\n",
        "        test_preds = torch.cat((test_preds, out.cpu()), 0)\n",
        "        test_targets = torch.cat((test_targets, data.y.view(-1, 1).cpu()), 0)\n",
        "\n",
        "    return loss, test_preds,test_targets\n",
        "\n",
        "\n",
        "\n",
        "def start_training(epochs,batch):\n",
        "  training_losses=[]\n",
        "  validation_losses=[]\n",
        "  training_rmse=[]\n",
        "  validation_rmse=[]\n",
        "  training_corr=[]\n",
        "  validation_corr=[]\n",
        "\n",
        "  cuda= \"cuda:0\"\n",
        "  best_val_loss = 1_000_000.\n",
        "\n",
        "  train_loader = DataLoader(training_set, batch_size=batch, shuffle=True)\n",
        "  val_loader = DataLoader(validation_set, batch_size=batch, shuffle=False)\n",
        "  test_loader = DataLoader(testing_set, batch_size=batch, shuffle=False)\n",
        "\n",
        "  # training the model\n",
        "  device = torch.device(cuda if torch.cuda.is_available() else \"cpu\")\n",
        "  model = GNN_Model().to(device)\n",
        "\n",
        "  criterion = torch.nn.MSELoss()\n",
        "  #optimizer = torch.optim.Adam(model.parameters(), lr=0.0001)\n",
        "  #optimizer = torch.optim.Adam(model.parameters(), lr=0.0001)\n",
        "  optimizer = torch.optim.SGD(model.parameters(), lr=0.01, momentum=0.9)\n",
        "  #optimizer = torch.optim.AdamW(model.parameters(), lr=0.0001)\n",
        "\n",
        "\n",
        "\n",
        "  model.train()\n",
        "  for epoch in range(epochs+1):\n",
        "    train_loss, train_preds,train_targets = train_one_epoch(model,train_loader,device,epoch,optimizer,criterion)\n",
        "    train_loss_value,train_mse,train_rmse,train_pearsonr =\\\n",
        "    print_results('Training',epoch,train_loss/len(train_loader),train_preds,train_targets)\n",
        "\n",
        "    val_loss, val_preds, val_targets = test(model, val_loader,device)\n",
        "    val_loss_value,val_mse,val_rmse,val_pearsonr= print_results('Validation',epoch,val_loss/len(val_loader),val_preds,val_targets)\n",
        "\n",
        "    training_losses.append(train_loss / len(train_loader))\n",
        "    validation_losses.append(val_loss / len(val_loader))\n",
        "    training_rmse.append(\"{:.3f}\".format(rmse(train_preds,train_targets)))\n",
        "    validation_rmse.append(\"{:.3f}\".format(rmse(val_preds,val_targets)))\n",
        "    training_corr.append(\"{:.3f}\".format(pearsonr(train_preds,train_targets)))\n",
        "    validation_corr.append(\"{:.3f}\".format(pearsonr(val_preds,val_targets)))\n",
        "\n",
        "\n",
        "    # test_loss, test_preds, test_targets = test(model, test_loader,device)\n",
        "    # print_results('Testing',epoch,test_loss/len(test_loader),test_preds,test_targets)\n",
        "    avg_val_loss = val_loss/len(val_loader)\n",
        "    if avg_val_loss < best_val_loss:\n",
        "          best_val_loss = avg_val_loss\n",
        "          model_path = 'best_model'\n",
        "          torch.save(model.state_dict(), model_path)\n",
        "\n",
        "\n",
        "\n",
        "\n",
        "  saved_model = GNN_Model().to(device)\n",
        "  saved_model.load_state_dict(torch.load('/content/best_model'))\n",
        "  # Final Results\n",
        "  print(f'----------------------')\n",
        "  print(f'Best Model')\n",
        "  # Training results\n",
        "  printResultsCV(saved_model,training_set,device,'Training',10)\n",
        "  # val results\n",
        "  printResultsCV(saved_model,validation_set,device,'Validation',10)\n",
        "  # test results\n",
        "  printResultsCV(saved_model,testing_set,device,'Testing',10)\n",
        "\n",
        "  # draw charts\n",
        "  draw_polt(training_losses,validation_losses,'Train Loss', 'Val Loss')\n",
        "  draw_polt(training_rmse,validation_rmse, 'Train RMSE', 'Val RMSE')\n",
        "  draw_polt(training_corr,validation_corr, 'Train PCC', 'Val PCC')\n",
        "  draw_one_chart(validation_corr,'Pearson correlation coefficient', 'Val PCC')\n",
        "\n",
        "\n"
      ],
      "metadata": {
        "id": "8bQ1pqBrXR43"
      },
      "execution_count": 9,
      "outputs": []
    },
    {
      "cell_type": "code",
      "source": [
        "start_training(100,32)"
      ],
      "metadata": {
        "colab": {
          "base_uri": "https://localhost:8080/",
          "height": 1000
        },
        "id": "kskKa5O3W_7R",
        "outputId": "44081d4e-f2ae-4e84-f46d-c2c5074a3c4f"
      },
      "execution_count": 10,
      "outputs": [
        {
          "output_type": "stream",
          "name": "stderr",
          "text": [
            "/usr/local/lib/python3.10/dist-packages/torch_geometric/deprecation.py:12: UserWarning: 'data.DataLoader' is deprecated, use 'loader.DataLoader' instead\n",
            "  warnings.warn(out)\n",
            "/usr/local/lib/python3.10/dist-packages/torch/nn/modules/lazy.py:180: UserWarning: Lazy modules are a new feature under heavy development so changes to the API or functionality can happen at any moment.\n",
            "  warnings.warn('Lazy modules are a new feature under heavy development '\n"
          ]
        },
        {
          "output_type": "stream",
          "name": "stdout",
          "text": [
            "epoch 0, Training samples 7056\n"
          ]
        },
        {
          "output_type": "stream",
          "name": "stderr",
          "text": [
            "100%|██████████| 221/221 [00:04<00:00, 54.48it/s]\n"
          ]
        },
        {
          "output_type": "stream",
          "name": "stdout",
          "text": [
            "----------------------\n",
            "epoch= 0\n",
            "Training Total Loss: 0.071\n",
            "Training MSE: 0.072\n",
            "Training RMSE: 0.267\n",
            "Training Pearsons correlation: 0.027\n"
          ]
        },
        {
          "output_type": "stream",
          "name": "stderr",
          "text": [
            "100%|██████████| 25/25 [00:00<00:00, 35.75it/s]\n",
            "/usr/local/lib/python3.10/dist-packages/torchmetrics/utilities/prints.py:43: UserWarning: The variance of predictions or target is close to zero. This can cause instability in Pearson correlationcoefficient, leading to wrong results. Consider re-scaling the input if possible or computing using alarger dtype (currently using torch.float32).\n",
            "  warnings.warn(*args, **kwargs)  # noqa: B028\n"
          ]
        },
        {
          "output_type": "stream",
          "name": "stdout",
          "text": [
            "----------------------\n",
            "epoch= 0\n",
            "Validation Total Loss: 0.056\n",
            "Validation MSE: 0.056\n",
            "Validation RMSE: 0.237\n",
            "Validation Pearsons correlation: 0.144\n",
            "epoch 1, Training samples 7056\n"
          ]
        },
        {
          "output_type": "stream",
          "name": "stderr",
          "text": [
            "100%|██████████| 221/221 [00:03<00:00, 67.06it/s]\n"
          ]
        },
        {
          "output_type": "stream",
          "name": "stdout",
          "text": [
            "----------------------\n",
            "epoch= 1\n",
            "Training Total Loss: 0.060\n",
            "Training MSE: 0.061\n",
            "Training RMSE: 0.246\n",
            "Training Pearsons correlation: 0.086\n"
          ]
        },
        {
          "output_type": "stream",
          "name": "stderr",
          "text": [
            "100%|██████████| 25/25 [00:00<00:00, 90.86it/s]\n"
          ]
        },
        {
          "output_type": "stream",
          "name": "stdout",
          "text": [
            "----------------------\n",
            "epoch= 1\n",
            "Validation Total Loss: 0.056\n",
            "Validation MSE: 0.056\n",
            "Validation RMSE: 0.236\n",
            "Validation Pearsons correlation: 0.146\n",
            "epoch 2, Training samples 7056\n"
          ]
        },
        {
          "output_type": "stream",
          "name": "stderr",
          "text": [
            "100%|██████████| 221/221 [00:03<00:00, 66.94it/s]\n"
          ]
        },
        {
          "output_type": "stream",
          "name": "stdout",
          "text": [
            "----------------------\n",
            "epoch= 2\n",
            "Training Total Loss: 0.060\n",
            "Training MSE: 0.060\n",
            "Training RMSE: 0.245\n",
            "Training Pearsons correlation: 0.120\n"
          ]
        },
        {
          "output_type": "stream",
          "name": "stderr",
          "text": [
            "100%|██████████| 25/25 [00:00<00:00, 89.17it/s]\n"
          ]
        },
        {
          "output_type": "stream",
          "name": "stdout",
          "text": [
            "----------------------\n",
            "epoch= 2\n",
            "Validation Total Loss: 0.056\n",
            "Validation MSE: 0.056\n",
            "Validation RMSE: 0.237\n",
            "Validation Pearsons correlation: 0.150\n",
            "epoch 3, Training samples 7056\n"
          ]
        },
        {
          "output_type": "stream",
          "name": "stderr",
          "text": [
            "100%|██████████| 221/221 [00:03<00:00, 66.33it/s]\n"
          ]
        },
        {
          "output_type": "stream",
          "name": "stdout",
          "text": [
            "----------------------\n",
            "epoch= 3\n",
            "Training Total Loss: 0.060\n",
            "Training MSE: 0.060\n",
            "Training RMSE: 0.245\n",
            "Training Pearsons correlation: 0.120\n"
          ]
        },
        {
          "output_type": "stream",
          "name": "stderr",
          "text": [
            "100%|██████████| 25/25 [00:00<00:00, 89.20it/s]\n"
          ]
        },
        {
          "output_type": "stream",
          "name": "stdout",
          "text": [
            "----------------------\n",
            "epoch= 3\n",
            "Validation Total Loss: 0.056\n",
            "Validation MSE: 0.055\n",
            "Validation RMSE: 0.236\n",
            "Validation Pearsons correlation: 0.155\n",
            "epoch 4, Training samples 7056\n"
          ]
        },
        {
          "output_type": "stream",
          "name": "stderr",
          "text": [
            "100%|██████████| 221/221 [00:03<00:00, 67.82it/s]\n"
          ]
        },
        {
          "output_type": "stream",
          "name": "stdout",
          "text": [
            "----------------------\n",
            "epoch= 4\n",
            "Training Total Loss: 0.060\n",
            "Training MSE: 0.060\n",
            "Training RMSE: 0.245\n",
            "Training Pearsons correlation: 0.130\n"
          ]
        },
        {
          "output_type": "stream",
          "name": "stderr",
          "text": [
            "100%|██████████| 25/25 [00:00<00:00, 91.91it/s]\n"
          ]
        },
        {
          "output_type": "stream",
          "name": "stdout",
          "text": [
            "----------------------\n",
            "epoch= 4\n",
            "Validation Total Loss: 0.056\n",
            "Validation MSE: 0.056\n",
            "Validation RMSE: 0.236\n",
            "Validation Pearsons correlation: 0.163\n",
            "epoch 5, Training samples 7056\n"
          ]
        },
        {
          "output_type": "stream",
          "name": "stderr",
          "text": [
            "100%|██████████| 221/221 [00:03<00:00, 67.36it/s]\n"
          ]
        },
        {
          "output_type": "stream",
          "name": "stdout",
          "text": [
            "----------------------\n",
            "epoch= 5\n",
            "Training Total Loss: 0.060\n",
            "Training MSE: 0.060\n",
            "Training RMSE: 0.245\n",
            "Training Pearsons correlation: 0.131\n"
          ]
        },
        {
          "output_type": "stream",
          "name": "stderr",
          "text": [
            "100%|██████████| 25/25 [00:00<00:00, 90.57it/s]\n"
          ]
        },
        {
          "output_type": "stream",
          "name": "stdout",
          "text": [
            "----------------------\n",
            "epoch= 5\n",
            "Validation Total Loss: 0.055\n",
            "Validation MSE: 0.055\n",
            "Validation RMSE: 0.235\n",
            "Validation Pearsons correlation: 0.184\n",
            "epoch 6, Training samples 7056\n"
          ]
        },
        {
          "output_type": "stream",
          "name": "stderr",
          "text": [
            "100%|██████████| 221/221 [00:03<00:00, 65.99it/s]\n"
          ]
        },
        {
          "output_type": "stream",
          "name": "stdout",
          "text": [
            "----------------------\n",
            "epoch= 6\n",
            "Training Total Loss: 0.060\n",
            "Training MSE: 0.060\n",
            "Training RMSE: 0.244\n",
            "Training Pearsons correlation: 0.179\n"
          ]
        },
        {
          "output_type": "stream",
          "name": "stderr",
          "text": [
            "100%|██████████| 25/25 [00:00<00:00, 89.26it/s]\n"
          ]
        },
        {
          "output_type": "stream",
          "name": "stdout",
          "text": [
            "----------------------\n",
            "epoch= 6\n",
            "Validation Total Loss: 0.055\n",
            "Validation MSE: 0.055\n",
            "Validation RMSE: 0.234\n",
            "Validation Pearsons correlation: 0.212\n",
            "epoch 7, Training samples 7056\n"
          ]
        },
        {
          "output_type": "stream",
          "name": "stderr",
          "text": [
            "100%|██████████| 221/221 [00:03<00:00, 67.67it/s]\n"
          ]
        },
        {
          "output_type": "stream",
          "name": "stdout",
          "text": [
            "----------------------\n",
            "epoch= 7\n",
            "Training Total Loss: 0.059\n",
            "Training MSE: 0.059\n",
            "Training RMSE: 0.243\n",
            "Training Pearsons correlation: 0.207\n"
          ]
        },
        {
          "output_type": "stream",
          "name": "stderr",
          "text": [
            "100%|██████████| 25/25 [00:00<00:00, 87.30it/s]\n"
          ]
        },
        {
          "output_type": "stream",
          "name": "stdout",
          "text": [
            "----------------------\n",
            "epoch= 7\n",
            "Validation Total Loss: 0.055\n",
            "Validation MSE: 0.054\n",
            "Validation RMSE: 0.233\n",
            "Validation Pearsons correlation: 0.270\n",
            "epoch 8, Training samples 7056\n"
          ]
        },
        {
          "output_type": "stream",
          "name": "stderr",
          "text": [
            "100%|██████████| 221/221 [00:03<00:00, 66.86it/s]\n"
          ]
        },
        {
          "output_type": "stream",
          "name": "stdout",
          "text": [
            "----------------------\n",
            "epoch= 8\n",
            "Training Total Loss: 0.058\n",
            "Training MSE: 0.058\n",
            "Training RMSE: 0.241\n",
            "Training Pearsons correlation: 0.280\n"
          ]
        },
        {
          "output_type": "stream",
          "name": "stderr",
          "text": [
            "100%|██████████| 25/25 [00:00<00:00, 89.95it/s]\n"
          ]
        },
        {
          "output_type": "stream",
          "name": "stdout",
          "text": [
            "----------------------\n",
            "epoch= 8\n",
            "Validation Total Loss: 0.053\n",
            "Validation MSE: 0.053\n",
            "Validation RMSE: 0.230\n",
            "Validation Pearsons correlation: 0.351\n",
            "epoch 9, Training samples 7056\n"
          ]
        },
        {
          "output_type": "stream",
          "name": "stderr",
          "text": [
            "100%|██████████| 221/221 [00:03<00:00, 66.36it/s]\n"
          ]
        },
        {
          "output_type": "stream",
          "name": "stdout",
          "text": [
            "----------------------\n",
            "epoch= 9\n",
            "Training Total Loss: 0.055\n",
            "Training MSE: 0.055\n",
            "Training RMSE: 0.235\n",
            "Training Pearsons correlation: 0.377\n"
          ]
        },
        {
          "output_type": "stream",
          "name": "stderr",
          "text": [
            "100%|██████████| 25/25 [00:00<00:00, 87.55it/s]\n"
          ]
        },
        {
          "output_type": "stream",
          "name": "stdout",
          "text": [
            "----------------------\n",
            "epoch= 9\n",
            "Validation Total Loss: 0.050\n",
            "Validation MSE: 0.049\n",
            "Validation RMSE: 0.222\n",
            "Validation Pearsons correlation: 0.448\n",
            "epoch 10, Training samples 7056\n"
          ]
        },
        {
          "output_type": "stream",
          "name": "stderr",
          "text": [
            "100%|██████████| 221/221 [00:03<00:00, 68.06it/s]\n"
          ]
        },
        {
          "output_type": "stream",
          "name": "stdout",
          "text": [
            "----------------------\n",
            "epoch= 10\n",
            "Training Total Loss: 0.049\n",
            "Training MSE: 0.049\n",
            "Training RMSE: 0.221\n",
            "Training Pearsons correlation: 0.496\n"
          ]
        },
        {
          "output_type": "stream",
          "name": "stderr",
          "text": [
            "100%|██████████| 25/25 [00:00<00:00, 81.82it/s]\n"
          ]
        },
        {
          "output_type": "stream",
          "name": "stdout",
          "text": [
            "----------------------\n",
            "epoch= 10\n",
            "Validation Total Loss: 0.043\n",
            "Validation MSE: 0.043\n",
            "Validation RMSE: 0.206\n",
            "Validation Pearsons correlation: 0.546\n",
            "epoch 11, Training samples 7056\n"
          ]
        },
        {
          "output_type": "stream",
          "name": "stderr",
          "text": [
            "100%|██████████| 221/221 [00:03<00:00, 66.84it/s]\n"
          ]
        },
        {
          "output_type": "stream",
          "name": "stdout",
          "text": [
            "----------------------\n",
            "epoch= 11\n",
            "Training Total Loss: 0.040\n",
            "Training MSE: 0.040\n",
            "Training RMSE: 0.199\n",
            "Training Pearsons correlation: 0.611\n"
          ]
        },
        {
          "output_type": "stream",
          "name": "stderr",
          "text": [
            "100%|██████████| 25/25 [00:00<00:00, 88.24it/s]\n"
          ]
        },
        {
          "output_type": "stream",
          "name": "stdout",
          "text": [
            "----------------------\n",
            "epoch= 11\n",
            "Validation Total Loss: 0.034\n",
            "Validation MSE: 0.034\n",
            "Validation RMSE: 0.184\n",
            "Validation Pearsons correlation: 0.650\n",
            "epoch 12, Training samples 7056\n"
          ]
        },
        {
          "output_type": "stream",
          "name": "stderr",
          "text": [
            "100%|██████████| 221/221 [00:03<00:00, 66.58it/s]\n"
          ]
        },
        {
          "output_type": "stream",
          "name": "stdout",
          "text": [
            "----------------------\n",
            "epoch= 12\n",
            "Training Total Loss: 0.032\n",
            "Training MSE: 0.032\n",
            "Training RMSE: 0.179\n",
            "Training Pearsons correlation: 0.699\n"
          ]
        },
        {
          "output_type": "stream",
          "name": "stderr",
          "text": [
            "100%|██████████| 25/25 [00:00<00:00, 85.40it/s]\n"
          ]
        },
        {
          "output_type": "stream",
          "name": "stdout",
          "text": [
            "----------------------\n",
            "epoch= 12\n",
            "Validation Total Loss: 0.029\n",
            "Validation MSE: 0.029\n",
            "Validation RMSE: 0.169\n",
            "Validation Pearsons correlation: 0.722\n",
            "epoch 13, Training samples 7056\n"
          ]
        },
        {
          "output_type": "stream",
          "name": "stderr",
          "text": [
            "100%|██████████| 221/221 [00:03<00:00, 67.12it/s]\n"
          ]
        },
        {
          "output_type": "stream",
          "name": "stdout",
          "text": [
            "----------------------\n",
            "epoch= 13\n",
            "Training Total Loss: 0.026\n",
            "Training MSE: 0.026\n",
            "Training RMSE: 0.161\n",
            "Training Pearsons correlation: 0.767\n"
          ]
        },
        {
          "output_type": "stream",
          "name": "stderr",
          "text": [
            "100%|██████████| 25/25 [00:00<00:00, 90.52it/s]\n"
          ]
        },
        {
          "output_type": "stream",
          "name": "stdout",
          "text": [
            "----------------------\n",
            "epoch= 13\n",
            "Validation Total Loss: 0.022\n",
            "Validation MSE: 0.022\n",
            "Validation RMSE: 0.149\n",
            "Validation Pearsons correlation: 0.794\n",
            "epoch 14, Training samples 7056\n"
          ]
        },
        {
          "output_type": "stream",
          "name": "stderr",
          "text": [
            "100%|██████████| 221/221 [00:03<00:00, 65.34it/s]\n"
          ]
        },
        {
          "output_type": "stream",
          "name": "stdout",
          "text": [
            "----------------------\n",
            "epoch= 14\n",
            "Training Total Loss: 0.022\n",
            "Training MSE: 0.022\n",
            "Training RMSE: 0.148\n",
            "Training Pearsons correlation: 0.805\n"
          ]
        },
        {
          "output_type": "stream",
          "name": "stderr",
          "text": [
            "100%|██████████| 25/25 [00:00<00:00, 89.27it/s]\n"
          ]
        },
        {
          "output_type": "stream",
          "name": "stdout",
          "text": [
            "----------------------\n",
            "epoch= 14\n",
            "Validation Total Loss: 0.019\n",
            "Validation MSE: 0.019\n",
            "Validation RMSE: 0.137\n",
            "Validation Pearsons correlation: 0.827\n",
            "epoch 15, Training samples 7056\n"
          ]
        },
        {
          "output_type": "stream",
          "name": "stderr",
          "text": [
            "100%|██████████| 221/221 [00:03<00:00, 66.48it/s]\n"
          ]
        },
        {
          "output_type": "stream",
          "name": "stdout",
          "text": [
            "----------------------\n",
            "epoch= 15\n",
            "Training Total Loss: 0.020\n",
            "Training MSE: 0.020\n",
            "Training RMSE: 0.141\n",
            "Training Pearsons correlation: 0.823\n"
          ]
        },
        {
          "output_type": "stream",
          "name": "stderr",
          "text": [
            "100%|██████████| 25/25 [00:00<00:00, 85.27it/s]\n"
          ]
        },
        {
          "output_type": "stream",
          "name": "stdout",
          "text": [
            "----------------------\n",
            "epoch= 15\n",
            "Validation Total Loss: 0.022\n",
            "Validation MSE: 0.022\n",
            "Validation RMSE: 0.150\n",
            "Validation Pearsons correlation: 0.843\n",
            "epoch 16, Training samples 7056\n"
          ]
        },
        {
          "output_type": "stream",
          "name": "stderr",
          "text": [
            "100%|██████████| 221/221 [00:03<00:00, 65.89it/s]\n"
          ]
        },
        {
          "output_type": "stream",
          "name": "stdout",
          "text": [
            "----------------------\n",
            "epoch= 16\n",
            "Training Total Loss: 0.018\n",
            "Training MSE: 0.018\n",
            "Training RMSE: 0.135\n",
            "Training Pearsons correlation: 0.838\n"
          ]
        },
        {
          "output_type": "stream",
          "name": "stderr",
          "text": [
            "100%|██████████| 25/25 [00:00<00:00, 89.19it/s]\n"
          ]
        },
        {
          "output_type": "stream",
          "name": "stdout",
          "text": [
            "----------------------\n",
            "epoch= 16\n",
            "Validation Total Loss: 0.016\n",
            "Validation MSE: 0.016\n",
            "Validation RMSE: 0.128\n",
            "Validation Pearsons correlation: 0.845\n",
            "epoch 17, Training samples 7056\n"
          ]
        },
        {
          "output_type": "stream",
          "name": "stderr",
          "text": [
            "100%|██████████| 221/221 [00:03<00:00, 66.15it/s]\n"
          ]
        },
        {
          "output_type": "stream",
          "name": "stdout",
          "text": [
            "----------------------\n",
            "epoch= 17\n",
            "Training Total Loss: 0.017\n",
            "Training MSE: 0.017\n",
            "Training RMSE: 0.132\n",
            "Training Pearsons correlation: 0.846\n"
          ]
        },
        {
          "output_type": "stream",
          "name": "stderr",
          "text": [
            "100%|██████████| 25/25 [00:00<00:00, 88.15it/s]\n"
          ]
        },
        {
          "output_type": "stream",
          "name": "stdout",
          "text": [
            "----------------------\n",
            "epoch= 17\n",
            "Validation Total Loss: 0.017\n",
            "Validation MSE: 0.017\n",
            "Validation RMSE: 0.129\n",
            "Validation Pearsons correlation: 0.845\n",
            "epoch 18, Training samples 7056\n"
          ]
        },
        {
          "output_type": "stream",
          "name": "stderr",
          "text": [
            "100%|██████████| 221/221 [00:03<00:00, 64.86it/s]\n"
          ]
        },
        {
          "output_type": "stream",
          "name": "stdout",
          "text": [
            "----------------------\n",
            "epoch= 18\n",
            "Training Total Loss: 0.018\n",
            "Training MSE: 0.018\n",
            "Training RMSE: 0.133\n",
            "Training Pearsons correlation: 0.843\n"
          ]
        },
        {
          "output_type": "stream",
          "name": "stderr",
          "text": [
            "100%|██████████| 25/25 [00:00<00:00, 79.76it/s]\n"
          ]
        },
        {
          "output_type": "stream",
          "name": "stdout",
          "text": [
            "----------------------\n",
            "epoch= 18\n",
            "Validation Total Loss: 0.016\n",
            "Validation MSE: 0.016\n",
            "Validation RMSE: 0.128\n",
            "Validation Pearsons correlation: 0.849\n",
            "epoch 19, Training samples 7056\n"
          ]
        },
        {
          "output_type": "stream",
          "name": "stderr",
          "text": [
            "100%|██████████| 221/221 [00:03<00:00, 63.42it/s]\n"
          ]
        },
        {
          "output_type": "stream",
          "name": "stdout",
          "text": [
            "----------------------\n",
            "epoch= 19\n",
            "Training Total Loss: 0.018\n",
            "Training MSE: 0.018\n",
            "Training RMSE: 0.133\n",
            "Training Pearsons correlation: 0.843\n"
          ]
        },
        {
          "output_type": "stream",
          "name": "stderr",
          "text": [
            "100%|██████████| 25/25 [00:00<00:00, 87.93it/s]\n"
          ]
        },
        {
          "output_type": "stream",
          "name": "stdout",
          "text": [
            "----------------------\n",
            "epoch= 19\n",
            "Validation Total Loss: 0.016\n",
            "Validation MSE: 0.016\n",
            "Validation RMSE: 0.128\n",
            "Validation Pearsons correlation: 0.848\n",
            "epoch 20, Training samples 7056\n"
          ]
        },
        {
          "output_type": "stream",
          "name": "stderr",
          "text": [
            "100%|██████████| 221/221 [00:03<00:00, 65.12it/s]\n"
          ]
        },
        {
          "output_type": "stream",
          "name": "stdout",
          "text": [
            "----------------------\n",
            "epoch= 20\n",
            "Training Total Loss: 0.017\n",
            "Training MSE: 0.017\n",
            "Training RMSE: 0.131\n",
            "Training Pearsons correlation: 0.847\n"
          ]
        },
        {
          "output_type": "stream",
          "name": "stderr",
          "text": [
            "100%|██████████| 25/25 [00:00<00:00, 83.89it/s]\n"
          ]
        },
        {
          "output_type": "stream",
          "name": "stdout",
          "text": [
            "----------------------\n",
            "epoch= 20\n",
            "Validation Total Loss: 0.016\n",
            "Validation MSE: 0.016\n",
            "Validation RMSE: 0.127\n",
            "Validation Pearsons correlation: 0.852\n",
            "epoch 21, Training samples 7056\n"
          ]
        },
        {
          "output_type": "stream",
          "name": "stderr",
          "text": [
            "100%|██████████| 221/221 [00:03<00:00, 64.26it/s]\n"
          ]
        },
        {
          "output_type": "stream",
          "name": "stdout",
          "text": [
            "----------------------\n",
            "epoch= 21\n",
            "Training Total Loss: 0.017\n",
            "Training MSE: 0.017\n",
            "Training RMSE: 0.129\n",
            "Training Pearsons correlation: 0.853\n"
          ]
        },
        {
          "output_type": "stream",
          "name": "stderr",
          "text": [
            "100%|██████████| 25/25 [00:00<00:00, 84.10it/s]\n"
          ]
        },
        {
          "output_type": "stream",
          "name": "stdout",
          "text": [
            "----------------------\n",
            "epoch= 21\n",
            "Validation Total Loss: 0.015\n",
            "Validation MSE: 0.015\n",
            "Validation RMSE: 0.124\n",
            "Validation Pearsons correlation: 0.859\n",
            "epoch 22, Training samples 7056\n"
          ]
        },
        {
          "output_type": "stream",
          "name": "stderr",
          "text": [
            "100%|██████████| 221/221 [00:03<00:00, 64.45it/s]\n"
          ]
        },
        {
          "output_type": "stream",
          "name": "stdout",
          "text": [
            "----------------------\n",
            "epoch= 22\n",
            "Training Total Loss: 0.017\n",
            "Training MSE: 0.017\n",
            "Training RMSE: 0.129\n",
            "Training Pearsons correlation: 0.853\n"
          ]
        },
        {
          "output_type": "stream",
          "name": "stderr",
          "text": [
            "100%|██████████| 25/25 [00:00<00:00, 88.27it/s]\n"
          ]
        },
        {
          "output_type": "stream",
          "name": "stdout",
          "text": [
            "----------------------\n",
            "epoch= 22\n",
            "Validation Total Loss: 0.015\n",
            "Validation MSE: 0.015\n",
            "Validation RMSE: 0.124\n",
            "Validation Pearsons correlation: 0.856\n",
            "epoch 23, Training samples 7056\n"
          ]
        },
        {
          "output_type": "stream",
          "name": "stderr",
          "text": [
            "100%|██████████| 221/221 [00:03<00:00, 64.93it/s]\n"
          ]
        },
        {
          "output_type": "stream",
          "name": "stdout",
          "text": [
            "----------------------\n",
            "epoch= 23\n",
            "Training Total Loss: 0.017\n",
            "Training MSE: 0.017\n",
            "Training RMSE: 0.129\n",
            "Training Pearsons correlation: 0.853\n"
          ]
        },
        {
          "output_type": "stream",
          "name": "stderr",
          "text": [
            "100%|██████████| 25/25 [00:00<00:00, 88.01it/s]\n"
          ]
        },
        {
          "output_type": "stream",
          "name": "stdout",
          "text": [
            "----------------------\n",
            "epoch= 23\n",
            "Validation Total Loss: 0.016\n",
            "Validation MSE: 0.016\n",
            "Validation RMSE: 0.125\n",
            "Validation Pearsons correlation: 0.858\n",
            "epoch 24, Training samples 7056\n"
          ]
        },
        {
          "output_type": "stream",
          "name": "stderr",
          "text": [
            "100%|██████████| 221/221 [00:03<00:00, 66.37it/s]\n"
          ]
        },
        {
          "output_type": "stream",
          "name": "stdout",
          "text": [
            "----------------------\n",
            "epoch= 24\n",
            "Training Total Loss: 0.016\n",
            "Training MSE: 0.016\n",
            "Training RMSE: 0.127\n",
            "Training Pearsons correlation: 0.857\n"
          ]
        },
        {
          "output_type": "stream",
          "name": "stderr",
          "text": [
            "100%|██████████| 25/25 [00:00<00:00, 89.87it/s]\n"
          ]
        },
        {
          "output_type": "stream",
          "name": "stdout",
          "text": [
            "----------------------\n",
            "epoch= 24\n",
            "Validation Total Loss: 0.015\n",
            "Validation MSE: 0.015\n",
            "Validation RMSE: 0.123\n",
            "Validation Pearsons correlation: 0.857\n",
            "epoch 25, Training samples 7056\n"
          ]
        },
        {
          "output_type": "stream",
          "name": "stderr",
          "text": [
            "100%|██████████| 221/221 [00:03<00:00, 66.19it/s]\n"
          ]
        },
        {
          "output_type": "stream",
          "name": "stdout",
          "text": [
            "----------------------\n",
            "epoch= 25\n",
            "Training Total Loss: 0.016\n",
            "Training MSE: 0.016\n",
            "Training RMSE: 0.127\n",
            "Training Pearsons correlation: 0.859\n"
          ]
        },
        {
          "output_type": "stream",
          "name": "stderr",
          "text": [
            "100%|██████████| 25/25 [00:00<00:00, 86.89it/s]\n"
          ]
        },
        {
          "output_type": "stream",
          "name": "stdout",
          "text": [
            "----------------------\n",
            "epoch= 25\n",
            "Validation Total Loss: 0.015\n",
            "Validation MSE: 0.015\n",
            "Validation RMSE: 0.124\n",
            "Validation Pearsons correlation: 0.858\n",
            "epoch 26, Training samples 7056\n"
          ]
        },
        {
          "output_type": "stream",
          "name": "stderr",
          "text": [
            "100%|██████████| 221/221 [00:03<00:00, 67.28it/s]\n"
          ]
        },
        {
          "output_type": "stream",
          "name": "stdout",
          "text": [
            "----------------------\n",
            "epoch= 26\n",
            "Training Total Loss: 0.016\n",
            "Training MSE: 0.016\n",
            "Training RMSE: 0.127\n",
            "Training Pearsons correlation: 0.859\n"
          ]
        },
        {
          "output_type": "stream",
          "name": "stderr",
          "text": [
            "100%|██████████| 25/25 [00:00<00:00, 82.95it/s]\n"
          ]
        },
        {
          "output_type": "stream",
          "name": "stdout",
          "text": [
            "----------------------\n",
            "epoch= 26\n",
            "Validation Total Loss: 0.016\n",
            "Validation MSE: 0.016\n",
            "Validation RMSE: 0.126\n",
            "Validation Pearsons correlation: 0.861\n",
            "epoch 27, Training samples 7056\n"
          ]
        },
        {
          "output_type": "stream",
          "name": "stderr",
          "text": [
            "100%|██████████| 221/221 [00:03<00:00, 67.74it/s]\n"
          ]
        },
        {
          "output_type": "stream",
          "name": "stdout",
          "text": [
            "----------------------\n",
            "epoch= 27\n",
            "Training Total Loss: 0.016\n",
            "Training MSE: 0.016\n",
            "Training RMSE: 0.126\n",
            "Training Pearsons correlation: 0.860\n"
          ]
        },
        {
          "output_type": "stream",
          "name": "stderr",
          "text": [
            "100%|██████████| 25/25 [00:00<00:00, 90.83it/s]\n"
          ]
        },
        {
          "output_type": "stream",
          "name": "stdout",
          "text": [
            "----------------------\n",
            "epoch= 27\n",
            "Validation Total Loss: 0.017\n",
            "Validation MSE: 0.017\n",
            "Validation RMSE: 0.131\n",
            "Validation Pearsons correlation: 0.860\n",
            "epoch 28, Training samples 7056\n"
          ]
        },
        {
          "output_type": "stream",
          "name": "stderr",
          "text": [
            "100%|██████████| 221/221 [00:03<00:00, 66.26it/s]\n"
          ]
        },
        {
          "output_type": "stream",
          "name": "stdout",
          "text": [
            "----------------------\n",
            "epoch= 28\n",
            "Training Total Loss: 0.016\n",
            "Training MSE: 0.016\n",
            "Training RMSE: 0.125\n",
            "Training Pearsons correlation: 0.862\n"
          ]
        },
        {
          "output_type": "stream",
          "name": "stderr",
          "text": [
            "100%|██████████| 25/25 [00:00<00:00, 91.64it/s]\n"
          ]
        },
        {
          "output_type": "stream",
          "name": "stdout",
          "text": [
            "----------------------\n",
            "epoch= 28\n",
            "Validation Total Loss: 0.017\n",
            "Validation MSE: 0.017\n",
            "Validation RMSE: 0.131\n",
            "Validation Pearsons correlation: 0.853\n",
            "epoch 29, Training samples 7056\n"
          ]
        },
        {
          "output_type": "stream",
          "name": "stderr",
          "text": [
            "100%|██████████| 221/221 [00:03<00:00, 67.88it/s]\n"
          ]
        },
        {
          "output_type": "stream",
          "name": "stdout",
          "text": [
            "----------------------\n",
            "epoch= 29\n",
            "Training Total Loss: 0.016\n",
            "Training MSE: 0.016\n",
            "Training RMSE: 0.125\n",
            "Training Pearsons correlation: 0.863\n"
          ]
        },
        {
          "output_type": "stream",
          "name": "stderr",
          "text": [
            "100%|██████████| 25/25 [00:00<00:00, 87.57it/s]\n"
          ]
        },
        {
          "output_type": "stream",
          "name": "stdout",
          "text": [
            "----------------------\n",
            "epoch= 29\n",
            "Validation Total Loss: 0.015\n",
            "Validation MSE: 0.015\n",
            "Validation RMSE: 0.121\n",
            "Validation Pearsons correlation: 0.861\n",
            "epoch 30, Training samples 7056\n"
          ]
        },
        {
          "output_type": "stream",
          "name": "stderr",
          "text": [
            "100%|██████████| 221/221 [00:03<00:00, 67.24it/s]\n"
          ]
        },
        {
          "output_type": "stream",
          "name": "stdout",
          "text": [
            "----------------------\n",
            "epoch= 30\n",
            "Training Total Loss: 0.015\n",
            "Training MSE: 0.015\n",
            "Training RMSE: 0.124\n",
            "Training Pearsons correlation: 0.864\n"
          ]
        },
        {
          "output_type": "stream",
          "name": "stderr",
          "text": [
            "100%|██████████| 25/25 [00:00<00:00, 89.80it/s]\n"
          ]
        },
        {
          "output_type": "stream",
          "name": "stdout",
          "text": [
            "----------------------\n",
            "epoch= 30\n",
            "Validation Total Loss: 0.015\n",
            "Validation MSE: 0.015\n",
            "Validation RMSE: 0.124\n",
            "Validation Pearsons correlation: 0.856\n",
            "epoch 31, Training samples 7056\n"
          ]
        },
        {
          "output_type": "stream",
          "name": "stderr",
          "text": [
            "100%|██████████| 221/221 [00:03<00:00, 67.77it/s]\n"
          ]
        },
        {
          "output_type": "stream",
          "name": "stdout",
          "text": [
            "----------------------\n",
            "epoch= 31\n",
            "Training Total Loss: 0.016\n",
            "Training MSE: 0.016\n",
            "Training RMSE: 0.127\n",
            "Training Pearsons correlation: 0.858\n"
          ]
        },
        {
          "output_type": "stream",
          "name": "stderr",
          "text": [
            "100%|██████████| 25/25 [00:00<00:00, 88.44it/s]\n"
          ]
        },
        {
          "output_type": "stream",
          "name": "stdout",
          "text": [
            "----------------------\n",
            "epoch= 31\n",
            "Validation Total Loss: 0.015\n",
            "Validation MSE: 0.015\n",
            "Validation RMSE: 0.121\n",
            "Validation Pearsons correlation: 0.860\n",
            "epoch 32, Training samples 7056\n"
          ]
        },
        {
          "output_type": "stream",
          "name": "stderr",
          "text": [
            "100%|██████████| 221/221 [00:03<00:00, 67.20it/s]\n"
          ]
        },
        {
          "output_type": "stream",
          "name": "stdout",
          "text": [
            "----------------------\n",
            "epoch= 32\n",
            "Training Total Loss: 0.015\n",
            "Training MSE: 0.015\n",
            "Training RMSE: 0.123\n",
            "Training Pearsons correlation: 0.867\n"
          ]
        },
        {
          "output_type": "stream",
          "name": "stderr",
          "text": [
            "100%|██████████| 25/25 [00:00<00:00, 90.54it/s]\n"
          ]
        },
        {
          "output_type": "stream",
          "name": "stdout",
          "text": [
            "----------------------\n",
            "epoch= 32\n",
            "Validation Total Loss: 0.017\n",
            "Validation MSE: 0.017\n",
            "Validation RMSE: 0.131\n",
            "Validation Pearsons correlation: 0.860\n",
            "epoch 33, Training samples 7056\n"
          ]
        },
        {
          "output_type": "stream",
          "name": "stderr",
          "text": [
            "100%|██████████| 221/221 [00:03<00:00, 68.18it/s]\n"
          ]
        },
        {
          "output_type": "stream",
          "name": "stdout",
          "text": [
            "----------------------\n",
            "epoch= 33\n",
            "Training Total Loss: 0.016\n",
            "Training MSE: 0.016\n",
            "Training RMSE: 0.125\n",
            "Training Pearsons correlation: 0.862\n"
          ]
        },
        {
          "output_type": "stream",
          "name": "stderr",
          "text": [
            "100%|██████████| 25/25 [00:00<00:00, 89.68it/s]\n"
          ]
        },
        {
          "output_type": "stream",
          "name": "stdout",
          "text": [
            "----------------------\n",
            "epoch= 33\n",
            "Validation Total Loss: 0.015\n",
            "Validation MSE: 0.015\n",
            "Validation RMSE: 0.122\n",
            "Validation Pearsons correlation: 0.859\n",
            "epoch 34, Training samples 7056\n"
          ]
        },
        {
          "output_type": "stream",
          "name": "stderr",
          "text": [
            "100%|██████████| 221/221 [00:03<00:00, 67.34it/s]\n"
          ]
        },
        {
          "output_type": "stream",
          "name": "stdout",
          "text": [
            "----------------------\n",
            "epoch= 34\n",
            "Training Total Loss: 0.015\n",
            "Training MSE: 0.015\n",
            "Training RMSE: 0.123\n",
            "Training Pearsons correlation: 0.868\n"
          ]
        },
        {
          "output_type": "stream",
          "name": "stderr",
          "text": [
            "100%|██████████| 25/25 [00:00<00:00, 88.63it/s]\n"
          ]
        },
        {
          "output_type": "stream",
          "name": "stdout",
          "text": [
            "----------------------\n",
            "epoch= 34\n",
            "Validation Total Loss: 0.016\n",
            "Validation MSE: 0.016\n",
            "Validation RMSE: 0.127\n",
            "Validation Pearsons correlation: 0.853\n",
            "epoch 35, Training samples 7056\n"
          ]
        },
        {
          "output_type": "stream",
          "name": "stderr",
          "text": [
            "100%|██████████| 221/221 [00:03<00:00, 68.51it/s]\n"
          ]
        },
        {
          "output_type": "stream",
          "name": "stdout",
          "text": [
            "----------------------\n",
            "epoch= 35\n",
            "Training Total Loss: 0.015\n",
            "Training MSE: 0.015\n",
            "Training RMSE: 0.122\n",
            "Training Pearsons correlation: 0.869\n"
          ]
        },
        {
          "output_type": "stream",
          "name": "stderr",
          "text": [
            "100%|██████████| 25/25 [00:00<00:00, 89.92it/s]\n"
          ]
        },
        {
          "output_type": "stream",
          "name": "stdout",
          "text": [
            "----------------------\n",
            "epoch= 35\n",
            "Validation Total Loss: 0.015\n",
            "Validation MSE: 0.015\n",
            "Validation RMSE: 0.123\n",
            "Validation Pearsons correlation: 0.859\n",
            "epoch 36, Training samples 7056\n"
          ]
        },
        {
          "output_type": "stream",
          "name": "stderr",
          "text": [
            "100%|██████████| 221/221 [00:03<00:00, 66.57it/s]\n"
          ]
        },
        {
          "output_type": "stream",
          "name": "stdout",
          "text": [
            "----------------------\n",
            "epoch= 36\n",
            "Training Total Loss: 0.015\n",
            "Training MSE: 0.015\n",
            "Training RMSE: 0.122\n",
            "Training Pearsons correlation: 0.870\n"
          ]
        },
        {
          "output_type": "stream",
          "name": "stderr",
          "text": [
            "100%|██████████| 25/25 [00:00<00:00, 88.58it/s]\n"
          ]
        },
        {
          "output_type": "stream",
          "name": "stdout",
          "text": [
            "----------------------\n",
            "epoch= 36\n",
            "Validation Total Loss: 0.015\n",
            "Validation MSE: 0.016\n",
            "Validation RMSE: 0.125\n",
            "Validation Pearsons correlation: 0.860\n",
            "epoch 37, Training samples 7056\n"
          ]
        },
        {
          "output_type": "stream",
          "name": "stderr",
          "text": [
            "100%|██████████| 221/221 [00:03<00:00, 68.06it/s]\n"
          ]
        },
        {
          "output_type": "stream",
          "name": "stdout",
          "text": [
            "----------------------\n",
            "epoch= 37\n",
            "Training Total Loss: 0.015\n",
            "Training MSE: 0.015\n",
            "Training RMSE: 0.121\n",
            "Training Pearsons correlation: 0.871\n"
          ]
        },
        {
          "output_type": "stream",
          "name": "stderr",
          "text": [
            "100%|██████████| 25/25 [00:00<00:00, 90.25it/s]\n"
          ]
        },
        {
          "output_type": "stream",
          "name": "stdout",
          "text": [
            "----------------------\n",
            "epoch= 37\n",
            "Validation Total Loss: 0.015\n",
            "Validation MSE: 0.015\n",
            "Validation RMSE: 0.123\n",
            "Validation Pearsons correlation: 0.857\n",
            "epoch 38, Training samples 7056\n"
          ]
        },
        {
          "output_type": "stream",
          "name": "stderr",
          "text": [
            "100%|██████████| 221/221 [00:03<00:00, 66.71it/s]\n"
          ]
        },
        {
          "output_type": "stream",
          "name": "stdout",
          "text": [
            "----------------------\n",
            "epoch= 38\n",
            "Training Total Loss: 0.015\n",
            "Training MSE: 0.015\n",
            "Training RMSE: 0.121\n",
            "Training Pearsons correlation: 0.871\n"
          ]
        },
        {
          "output_type": "stream",
          "name": "stderr",
          "text": [
            "100%|██████████| 25/25 [00:00<00:00, 87.30it/s]\n"
          ]
        },
        {
          "output_type": "stream",
          "name": "stdout",
          "text": [
            "----------------------\n",
            "epoch= 38\n",
            "Validation Total Loss: 0.017\n",
            "Validation MSE: 0.017\n",
            "Validation RMSE: 0.129\n",
            "Validation Pearsons correlation: 0.852\n",
            "epoch 39, Training samples 7056\n"
          ]
        },
        {
          "output_type": "stream",
          "name": "stderr",
          "text": [
            "100%|██████████| 221/221 [00:03<00:00, 67.72it/s]\n"
          ]
        },
        {
          "output_type": "stream",
          "name": "stdout",
          "text": [
            "----------------------\n",
            "epoch= 39\n",
            "Training Total Loss: 0.014\n",
            "Training MSE: 0.014\n",
            "Training RMSE: 0.120\n",
            "Training Pearsons correlation: 0.874\n"
          ]
        },
        {
          "output_type": "stream",
          "name": "stderr",
          "text": [
            "100%|██████████| 25/25 [00:00<00:00, 90.89it/s]\n"
          ]
        },
        {
          "output_type": "stream",
          "name": "stdout",
          "text": [
            "----------------------\n",
            "epoch= 39\n",
            "Validation Total Loss: 0.015\n",
            "Validation MSE: 0.015\n",
            "Validation RMSE: 0.122\n",
            "Validation Pearsons correlation: 0.857\n",
            "epoch 40, Training samples 7056\n"
          ]
        },
        {
          "output_type": "stream",
          "name": "stderr",
          "text": [
            "100%|██████████| 221/221 [00:03<00:00, 68.54it/s]\n"
          ]
        },
        {
          "output_type": "stream",
          "name": "stdout",
          "text": [
            "----------------------\n",
            "epoch= 40\n",
            "Training Total Loss: 0.015\n",
            "Training MSE: 0.015\n",
            "Training RMSE: 0.121\n",
            "Training Pearsons correlation: 0.873\n"
          ]
        },
        {
          "output_type": "stream",
          "name": "stderr",
          "text": [
            "100%|██████████| 25/25 [00:00<00:00, 89.87it/s]\n"
          ]
        },
        {
          "output_type": "stream",
          "name": "stdout",
          "text": [
            "----------------------\n",
            "epoch= 40\n",
            "Validation Total Loss: 0.015\n",
            "Validation MSE: 0.015\n",
            "Validation RMSE: 0.123\n",
            "Validation Pearsons correlation: 0.857\n",
            "epoch 41, Training samples 7056\n"
          ]
        },
        {
          "output_type": "stream",
          "name": "stderr",
          "text": [
            "100%|██████████| 221/221 [00:03<00:00, 66.78it/s]\n"
          ]
        },
        {
          "output_type": "stream",
          "name": "stdout",
          "text": [
            "----------------------\n",
            "epoch= 41\n",
            "Training Total Loss: 0.015\n",
            "Training MSE: 0.015\n",
            "Training RMSE: 0.122\n",
            "Training Pearsons correlation: 0.871\n"
          ]
        },
        {
          "output_type": "stream",
          "name": "stderr",
          "text": [
            "100%|██████████| 25/25 [00:00<00:00, 88.72it/s]\n"
          ]
        },
        {
          "output_type": "stream",
          "name": "stdout",
          "text": [
            "----------------------\n",
            "epoch= 41\n",
            "Validation Total Loss: 0.016\n",
            "Validation MSE: 0.016\n",
            "Validation RMSE: 0.127\n",
            "Validation Pearsons correlation: 0.852\n",
            "epoch 42, Training samples 7056\n"
          ]
        },
        {
          "output_type": "stream",
          "name": "stderr",
          "text": [
            "100%|██████████| 221/221 [00:03<00:00, 67.17it/s]\n"
          ]
        },
        {
          "output_type": "stream",
          "name": "stdout",
          "text": [
            "----------------------\n",
            "epoch= 42\n",
            "Training Total Loss: 0.014\n",
            "Training MSE: 0.014\n",
            "Training RMSE: 0.119\n",
            "Training Pearsons correlation: 0.876\n"
          ]
        },
        {
          "output_type": "stream",
          "name": "stderr",
          "text": [
            "100%|██████████| 25/25 [00:00<00:00, 91.77it/s]\n"
          ]
        },
        {
          "output_type": "stream",
          "name": "stdout",
          "text": [
            "----------------------\n",
            "epoch= 42\n",
            "Validation Total Loss: 0.015\n",
            "Validation MSE: 0.015\n",
            "Validation RMSE: 0.124\n",
            "Validation Pearsons correlation: 0.856\n",
            "epoch 43, Training samples 7056\n"
          ]
        },
        {
          "output_type": "stream",
          "name": "stderr",
          "text": [
            "100%|██████████| 221/221 [00:03<00:00, 67.33it/s]\n"
          ]
        },
        {
          "output_type": "stream",
          "name": "stdout",
          "text": [
            "----------------------\n",
            "epoch= 43\n",
            "Training Total Loss: 0.014\n",
            "Training MSE: 0.014\n",
            "Training RMSE: 0.119\n",
            "Training Pearsons correlation: 0.877\n"
          ]
        },
        {
          "output_type": "stream",
          "name": "stderr",
          "text": [
            "100%|██████████| 25/25 [00:00<00:00, 86.55it/s]\n"
          ]
        },
        {
          "output_type": "stream",
          "name": "stdout",
          "text": [
            "----------------------\n",
            "epoch= 43\n",
            "Validation Total Loss: 0.015\n",
            "Validation MSE: 0.015\n",
            "Validation RMSE: 0.124\n",
            "Validation Pearsons correlation: 0.853\n",
            "epoch 44, Training samples 7056\n"
          ]
        },
        {
          "output_type": "stream",
          "name": "stderr",
          "text": [
            "100%|██████████| 221/221 [00:03<00:00, 67.40it/s]\n"
          ]
        },
        {
          "output_type": "stream",
          "name": "stdout",
          "text": [
            "----------------------\n",
            "epoch= 44\n",
            "Training Total Loss: 0.015\n",
            "Training MSE: 0.015\n",
            "Training RMSE: 0.122\n",
            "Training Pearsons correlation: 0.871\n"
          ]
        },
        {
          "output_type": "stream",
          "name": "stderr",
          "text": [
            "100%|██████████| 25/25 [00:00<00:00, 87.98it/s]\n"
          ]
        },
        {
          "output_type": "stream",
          "name": "stdout",
          "text": [
            "----------------------\n",
            "epoch= 44\n",
            "Validation Total Loss: 0.016\n",
            "Validation MSE: 0.016\n",
            "Validation RMSE: 0.126\n",
            "Validation Pearsons correlation: 0.851\n",
            "epoch 45, Training samples 7056\n"
          ]
        },
        {
          "output_type": "stream",
          "name": "stderr",
          "text": [
            "100%|██████████| 221/221 [00:03<00:00, 67.84it/s]\n"
          ]
        },
        {
          "output_type": "stream",
          "name": "stdout",
          "text": [
            "----------------------\n",
            "epoch= 45\n",
            "Training Total Loss: 0.014\n",
            "Training MSE: 0.014\n",
            "Training RMSE: 0.118\n",
            "Training Pearsons correlation: 0.879\n"
          ]
        },
        {
          "output_type": "stream",
          "name": "stderr",
          "text": [
            "100%|██████████| 25/25 [00:00<00:00, 92.85it/s]\n"
          ]
        },
        {
          "output_type": "stream",
          "name": "stdout",
          "text": [
            "----------------------\n",
            "epoch= 45\n",
            "Validation Total Loss: 0.015\n",
            "Validation MSE: 0.015\n",
            "Validation RMSE: 0.124\n",
            "Validation Pearsons correlation: 0.854\n",
            "epoch 46, Training samples 7056\n"
          ]
        },
        {
          "output_type": "stream",
          "name": "stderr",
          "text": [
            "100%|██████████| 221/221 [00:03<00:00, 67.87it/s]\n"
          ]
        },
        {
          "output_type": "stream",
          "name": "stdout",
          "text": [
            "----------------------\n",
            "epoch= 46\n",
            "Training Total Loss: 0.014\n",
            "Training MSE: 0.014\n",
            "Training RMSE: 0.118\n",
            "Training Pearsons correlation: 0.878\n"
          ]
        },
        {
          "output_type": "stream",
          "name": "stderr",
          "text": [
            "100%|██████████| 25/25 [00:00<00:00, 83.76it/s]\n"
          ]
        },
        {
          "output_type": "stream",
          "name": "stdout",
          "text": [
            "----------------------\n",
            "epoch= 46\n",
            "Validation Total Loss: 0.016\n",
            "Validation MSE: 0.016\n",
            "Validation RMSE: 0.126\n",
            "Validation Pearsons correlation: 0.856\n",
            "epoch 47, Training samples 7056\n"
          ]
        },
        {
          "output_type": "stream",
          "name": "stderr",
          "text": [
            "100%|██████████| 221/221 [00:03<00:00, 67.98it/s]\n"
          ]
        },
        {
          "output_type": "stream",
          "name": "stdout",
          "text": [
            "----------------------\n",
            "epoch= 47\n",
            "Training Total Loss: 0.014\n",
            "Training MSE: 0.014\n",
            "Training RMSE: 0.118\n",
            "Training Pearsons correlation: 0.879\n"
          ]
        },
        {
          "output_type": "stream",
          "name": "stderr",
          "text": [
            "100%|██████████| 25/25 [00:00<00:00, 84.72it/s]\n"
          ]
        },
        {
          "output_type": "stream",
          "name": "stdout",
          "text": [
            "----------------------\n",
            "epoch= 47\n",
            "Validation Total Loss: 0.018\n",
            "Validation MSE: 0.018\n",
            "Validation RMSE: 0.135\n",
            "Validation Pearsons correlation: 0.853\n",
            "epoch 48, Training samples 7056\n"
          ]
        },
        {
          "output_type": "stream",
          "name": "stderr",
          "text": [
            "100%|██████████| 221/221 [00:03<00:00, 67.52it/s]\n"
          ]
        },
        {
          "output_type": "stream",
          "name": "stdout",
          "text": [
            "----------------------\n",
            "epoch= 48\n",
            "Training Total Loss: 0.014\n",
            "Training MSE: 0.014\n",
            "Training RMSE: 0.118\n",
            "Training Pearsons correlation: 0.879\n"
          ]
        },
        {
          "output_type": "stream",
          "name": "stderr",
          "text": [
            "100%|██████████| 25/25 [00:00<00:00, 90.45it/s]\n"
          ]
        },
        {
          "output_type": "stream",
          "name": "stdout",
          "text": [
            "----------------------\n",
            "epoch= 48\n",
            "Validation Total Loss: 0.015\n",
            "Validation MSE: 0.015\n",
            "Validation RMSE: 0.124\n",
            "Validation Pearsons correlation: 0.857\n",
            "epoch 49, Training samples 7056\n"
          ]
        },
        {
          "output_type": "stream",
          "name": "stderr",
          "text": [
            "100%|██████████| 221/221 [00:03<00:00, 68.09it/s]\n"
          ]
        },
        {
          "output_type": "stream",
          "name": "stdout",
          "text": [
            "----------------------\n",
            "epoch= 49\n",
            "Training Total Loss: 0.014\n",
            "Training MSE: 0.014\n",
            "Training RMSE: 0.117\n",
            "Training Pearsons correlation: 0.881\n"
          ]
        },
        {
          "output_type": "stream",
          "name": "stderr",
          "text": [
            "100%|██████████| 25/25 [00:00<00:00, 91.66it/s]\n"
          ]
        },
        {
          "output_type": "stream",
          "name": "stdout",
          "text": [
            "----------------------\n",
            "epoch= 49\n",
            "Validation Total Loss: 0.015\n",
            "Validation MSE: 0.015\n",
            "Validation RMSE: 0.123\n",
            "Validation Pearsons correlation: 0.855\n",
            "epoch 50, Training samples 7056\n"
          ]
        },
        {
          "output_type": "stream",
          "name": "stderr",
          "text": [
            "100%|██████████| 221/221 [00:03<00:00, 67.12it/s]\n"
          ]
        },
        {
          "output_type": "stream",
          "name": "stdout",
          "text": [
            "----------------------\n",
            "epoch= 50\n",
            "Training Total Loss: 0.014\n",
            "Training MSE: 0.014\n",
            "Training RMSE: 0.117\n",
            "Training Pearsons correlation: 0.881\n"
          ]
        },
        {
          "output_type": "stream",
          "name": "stderr",
          "text": [
            "100%|██████████| 25/25 [00:00<00:00, 89.41it/s]\n"
          ]
        },
        {
          "output_type": "stream",
          "name": "stdout",
          "text": [
            "----------------------\n",
            "epoch= 50\n",
            "Validation Total Loss: 0.015\n",
            "Validation MSE: 0.015\n",
            "Validation RMSE: 0.124\n",
            "Validation Pearsons correlation: 0.854\n",
            "epoch 51, Training samples 7056\n"
          ]
        },
        {
          "output_type": "stream",
          "name": "stderr",
          "text": [
            "100%|██████████| 221/221 [00:03<00:00, 66.28it/s]\n"
          ]
        },
        {
          "output_type": "stream",
          "name": "stdout",
          "text": [
            "----------------------\n",
            "epoch= 51\n",
            "Training Total Loss: 0.013\n",
            "Training MSE: 0.013\n",
            "Training RMSE: 0.116\n",
            "Training Pearsons correlation: 0.883\n"
          ]
        },
        {
          "output_type": "stream",
          "name": "stderr",
          "text": [
            "100%|██████████| 25/25 [00:00<00:00, 88.89it/s]\n"
          ]
        },
        {
          "output_type": "stream",
          "name": "stdout",
          "text": [
            "----------------------\n",
            "epoch= 51\n",
            "Validation Total Loss: 0.015\n",
            "Validation MSE: 0.015\n",
            "Validation RMSE: 0.123\n",
            "Validation Pearsons correlation: 0.857\n",
            "epoch 52, Training samples 7056\n"
          ]
        },
        {
          "output_type": "stream",
          "name": "stderr",
          "text": [
            "100%|██████████| 221/221 [00:03<00:00, 68.31it/s]\n"
          ]
        },
        {
          "output_type": "stream",
          "name": "stdout",
          "text": [
            "----------------------\n",
            "epoch= 52\n",
            "Training Total Loss: 0.014\n",
            "Training MSE: 0.014\n",
            "Training RMSE: 0.116\n",
            "Training Pearsons correlation: 0.882\n"
          ]
        },
        {
          "output_type": "stream",
          "name": "stderr",
          "text": [
            "100%|██████████| 25/25 [00:00<00:00, 90.66it/s]\n"
          ]
        },
        {
          "output_type": "stream",
          "name": "stdout",
          "text": [
            "----------------------\n",
            "epoch= 52\n",
            "Validation Total Loss: 0.015\n",
            "Validation MSE: 0.015\n",
            "Validation RMSE: 0.123\n",
            "Validation Pearsons correlation: 0.855\n",
            "epoch 53, Training samples 7056\n"
          ]
        },
        {
          "output_type": "stream",
          "name": "stderr",
          "text": [
            "100%|██████████| 221/221 [00:03<00:00, 65.81it/s]\n"
          ]
        },
        {
          "output_type": "stream",
          "name": "stdout",
          "text": [
            "----------------------\n",
            "epoch= 53\n",
            "Training Total Loss: 0.014\n",
            "Training MSE: 0.014\n",
            "Training RMSE: 0.117\n",
            "Training Pearsons correlation: 0.881\n"
          ]
        },
        {
          "output_type": "stream",
          "name": "stderr",
          "text": [
            "100%|██████████| 25/25 [00:00<00:00, 88.87it/s]\n"
          ]
        },
        {
          "output_type": "stream",
          "name": "stdout",
          "text": [
            "----------------------\n",
            "epoch= 53\n",
            "Validation Total Loss: 0.015\n",
            "Validation MSE: 0.016\n",
            "Validation RMSE: 0.125\n",
            "Validation Pearsons correlation: 0.856\n",
            "epoch 54, Training samples 7056\n"
          ]
        },
        {
          "output_type": "stream",
          "name": "stderr",
          "text": [
            "100%|██████████| 221/221 [00:03<00:00, 65.66it/s]\n"
          ]
        },
        {
          "output_type": "stream",
          "name": "stdout",
          "text": [
            "----------------------\n",
            "epoch= 54\n",
            "Training Total Loss: 0.013\n",
            "Training MSE: 0.013\n",
            "Training RMSE: 0.116\n",
            "Training Pearsons correlation: 0.884\n"
          ]
        },
        {
          "output_type": "stream",
          "name": "stderr",
          "text": [
            "100%|██████████| 25/25 [00:00<00:00, 87.40it/s]\n"
          ]
        },
        {
          "output_type": "stream",
          "name": "stdout",
          "text": [
            "----------------------\n",
            "epoch= 54\n",
            "Validation Total Loss: 0.016\n",
            "Validation MSE: 0.016\n",
            "Validation RMSE: 0.125\n",
            "Validation Pearsons correlation: 0.852\n",
            "epoch 55, Training samples 7056\n"
          ]
        },
        {
          "output_type": "stream",
          "name": "stderr",
          "text": [
            "100%|██████████| 221/221 [00:03<00:00, 68.23it/s]\n"
          ]
        },
        {
          "output_type": "stream",
          "name": "stdout",
          "text": [
            "----------------------\n",
            "epoch= 55\n",
            "Training Total Loss: 0.013\n",
            "Training MSE: 0.013\n",
            "Training RMSE: 0.114\n",
            "Training Pearsons correlation: 0.887\n"
          ]
        },
        {
          "output_type": "stream",
          "name": "stderr",
          "text": [
            "100%|██████████| 25/25 [00:00<00:00, 88.42it/s]\n"
          ]
        },
        {
          "output_type": "stream",
          "name": "stdout",
          "text": [
            "----------------------\n",
            "epoch= 55\n",
            "Validation Total Loss: 0.015\n",
            "Validation MSE: 0.015\n",
            "Validation RMSE: 0.123\n",
            "Validation Pearsons correlation: 0.856\n",
            "epoch 56, Training samples 7056\n"
          ]
        },
        {
          "output_type": "stream",
          "name": "stderr",
          "text": [
            "100%|██████████| 221/221 [00:03<00:00, 67.91it/s]\n"
          ]
        },
        {
          "output_type": "stream",
          "name": "stdout",
          "text": [
            "----------------------\n",
            "epoch= 56\n",
            "Training Total Loss: 0.013\n",
            "Training MSE: 0.013\n",
            "Training RMSE: 0.115\n",
            "Training Pearsons correlation: 0.885\n"
          ]
        },
        {
          "output_type": "stream",
          "name": "stderr",
          "text": [
            "100%|██████████| 25/25 [00:00<00:00, 89.88it/s]\n"
          ]
        },
        {
          "output_type": "stream",
          "name": "stdout",
          "text": [
            "----------------------\n",
            "epoch= 56\n",
            "Validation Total Loss: 0.016\n",
            "Validation MSE: 0.016\n",
            "Validation RMSE: 0.125\n",
            "Validation Pearsons correlation: 0.851\n",
            "epoch 57, Training samples 7056\n"
          ]
        },
        {
          "output_type": "stream",
          "name": "stderr",
          "text": [
            "100%|██████████| 221/221 [00:03<00:00, 66.72it/s]\n"
          ]
        },
        {
          "output_type": "stream",
          "name": "stdout",
          "text": [
            "----------------------\n",
            "epoch= 57\n",
            "Training Total Loss: 0.013\n",
            "Training MSE: 0.013\n",
            "Training RMSE: 0.114\n",
            "Training Pearsons correlation: 0.887\n"
          ]
        },
        {
          "output_type": "stream",
          "name": "stderr",
          "text": [
            "100%|██████████| 25/25 [00:00<00:00, 91.04it/s]\n"
          ]
        },
        {
          "output_type": "stream",
          "name": "stdout",
          "text": [
            "----------------------\n",
            "epoch= 57\n",
            "Validation Total Loss: 0.015\n",
            "Validation MSE: 0.015\n",
            "Validation RMSE: 0.124\n",
            "Validation Pearsons correlation: 0.853\n",
            "epoch 58, Training samples 7056\n"
          ]
        },
        {
          "output_type": "stream",
          "name": "stderr",
          "text": [
            "100%|██████████| 221/221 [00:03<00:00, 66.73it/s]\n"
          ]
        },
        {
          "output_type": "stream",
          "name": "stdout",
          "text": [
            "----------------------\n",
            "epoch= 58\n",
            "Training Total Loss: 0.013\n",
            "Training MSE: 0.013\n",
            "Training RMSE: 0.113\n",
            "Training Pearsons correlation: 0.889\n"
          ]
        },
        {
          "output_type": "stream",
          "name": "stderr",
          "text": [
            "100%|██████████| 25/25 [00:00<00:00, 86.64it/s]\n"
          ]
        },
        {
          "output_type": "stream",
          "name": "stdout",
          "text": [
            "----------------------\n",
            "epoch= 58\n",
            "Validation Total Loss: 0.016\n",
            "Validation MSE: 0.016\n",
            "Validation RMSE: 0.125\n",
            "Validation Pearsons correlation: 0.852\n",
            "epoch 59, Training samples 7056\n"
          ]
        },
        {
          "output_type": "stream",
          "name": "stderr",
          "text": [
            "100%|██████████| 221/221 [00:03<00:00, 68.19it/s]\n"
          ]
        },
        {
          "output_type": "stream",
          "name": "stdout",
          "text": [
            "----------------------\n",
            "epoch= 59\n",
            "Training Total Loss: 0.013\n",
            "Training MSE: 0.013\n",
            "Training RMSE: 0.113\n",
            "Training Pearsons correlation: 0.888\n"
          ]
        },
        {
          "output_type": "stream",
          "name": "stderr",
          "text": [
            "100%|██████████| 25/25 [00:00<00:00, 88.99it/s]\n"
          ]
        },
        {
          "output_type": "stream",
          "name": "stdout",
          "text": [
            "----------------------\n",
            "epoch= 59\n",
            "Validation Total Loss: 0.015\n",
            "Validation MSE: 0.015\n",
            "Validation RMSE: 0.122\n",
            "Validation Pearsons correlation: 0.858\n",
            "epoch 60, Training samples 7056\n"
          ]
        },
        {
          "output_type": "stream",
          "name": "stderr",
          "text": [
            "100%|██████████| 221/221 [00:03<00:00, 67.42it/s]\n"
          ]
        },
        {
          "output_type": "stream",
          "name": "stdout",
          "text": [
            "----------------------\n",
            "epoch= 60\n",
            "Training Total Loss: 0.013\n",
            "Training MSE: 0.013\n",
            "Training RMSE: 0.113\n",
            "Training Pearsons correlation: 0.888\n"
          ]
        },
        {
          "output_type": "stream",
          "name": "stderr",
          "text": [
            "100%|██████████| 25/25 [00:00<00:00, 82.82it/s]\n"
          ]
        },
        {
          "output_type": "stream",
          "name": "stdout",
          "text": [
            "----------------------\n",
            "epoch= 60\n",
            "Validation Total Loss: 0.015\n",
            "Validation MSE: 0.016\n",
            "Validation RMSE: 0.125\n",
            "Validation Pearsons correlation: 0.857\n",
            "epoch 61, Training samples 7056\n"
          ]
        },
        {
          "output_type": "stream",
          "name": "stderr",
          "text": [
            "100%|██████████| 221/221 [00:03<00:00, 66.45it/s]\n"
          ]
        },
        {
          "output_type": "stream",
          "name": "stdout",
          "text": [
            "----------------------\n",
            "epoch= 61\n",
            "Training Total Loss: 0.013\n",
            "Training MSE: 0.013\n",
            "Training RMSE: 0.112\n",
            "Training Pearsons correlation: 0.891\n"
          ]
        },
        {
          "output_type": "stream",
          "name": "stderr",
          "text": [
            "100%|██████████| 25/25 [00:00<00:00, 92.02it/s]\n"
          ]
        },
        {
          "output_type": "stream",
          "name": "stdout",
          "text": [
            "----------------------\n",
            "epoch= 61\n",
            "Validation Total Loss: 0.016\n",
            "Validation MSE: 0.016\n",
            "Validation RMSE: 0.127\n",
            "Validation Pearsons correlation: 0.851\n",
            "epoch 62, Training samples 7056\n"
          ]
        },
        {
          "output_type": "stream",
          "name": "stderr",
          "text": [
            "100%|██████████| 221/221 [00:03<00:00, 67.87it/s]\n"
          ]
        },
        {
          "output_type": "stream",
          "name": "stdout",
          "text": [
            "----------------------\n",
            "epoch= 62\n",
            "Training Total Loss: 0.013\n",
            "Training MSE: 0.013\n",
            "Training RMSE: 0.113\n",
            "Training Pearsons correlation: 0.890\n"
          ]
        },
        {
          "output_type": "stream",
          "name": "stderr",
          "text": [
            "100%|██████████| 25/25 [00:00<00:00, 89.74it/s]\n"
          ]
        },
        {
          "output_type": "stream",
          "name": "stdout",
          "text": [
            "----------------------\n",
            "epoch= 62\n",
            "Validation Total Loss: 0.016\n",
            "Validation MSE: 0.016\n",
            "Validation RMSE: 0.125\n",
            "Validation Pearsons correlation: 0.854\n",
            "epoch 63, Training samples 7056\n"
          ]
        },
        {
          "output_type": "stream",
          "name": "stderr",
          "text": [
            "100%|██████████| 221/221 [00:03<00:00, 67.72it/s]\n"
          ]
        },
        {
          "output_type": "stream",
          "name": "stdout",
          "text": [
            "----------------------\n",
            "epoch= 63\n",
            "Training Total Loss: 0.012\n",
            "Training MSE: 0.012\n",
            "Training RMSE: 0.111\n",
            "Training Pearsons correlation: 0.892\n"
          ]
        },
        {
          "output_type": "stream",
          "name": "stderr",
          "text": [
            "100%|██████████| 25/25 [00:00<00:00, 90.34it/s]\n"
          ]
        },
        {
          "output_type": "stream",
          "name": "stdout",
          "text": [
            "----------------------\n",
            "epoch= 63\n",
            "Validation Total Loss: 0.015\n",
            "Validation MSE: 0.015\n",
            "Validation RMSE: 0.123\n",
            "Validation Pearsons correlation: 0.857\n",
            "epoch 64, Training samples 7056\n"
          ]
        },
        {
          "output_type": "stream",
          "name": "stderr",
          "text": [
            "100%|██████████| 221/221 [00:03<00:00, 64.28it/s]\n"
          ]
        },
        {
          "output_type": "stream",
          "name": "stdout",
          "text": [
            "----------------------\n",
            "epoch= 64\n",
            "Training Total Loss: 0.012\n",
            "Training MSE: 0.012\n",
            "Training RMSE: 0.112\n",
            "Training Pearsons correlation: 0.892\n"
          ]
        },
        {
          "output_type": "stream",
          "name": "stderr",
          "text": [
            "100%|██████████| 25/25 [00:00<00:00, 82.33it/s]\n"
          ]
        },
        {
          "output_type": "stream",
          "name": "stdout",
          "text": [
            "----------------------\n",
            "epoch= 64\n",
            "Validation Total Loss: 0.015\n",
            "Validation MSE: 0.015\n",
            "Validation RMSE: 0.122\n",
            "Validation Pearsons correlation: 0.859\n",
            "epoch 65, Training samples 7056\n"
          ]
        },
        {
          "output_type": "stream",
          "name": "stderr",
          "text": [
            "100%|██████████| 221/221 [00:03<00:00, 66.94it/s]\n"
          ]
        },
        {
          "output_type": "stream",
          "name": "stdout",
          "text": [
            "----------------------\n",
            "epoch= 65\n",
            "Training Total Loss: 0.012\n",
            "Training MSE: 0.012\n",
            "Training RMSE: 0.110\n",
            "Training Pearsons correlation: 0.895\n"
          ]
        },
        {
          "output_type": "stream",
          "name": "stderr",
          "text": [
            "100%|██████████| 25/25 [00:00<00:00, 88.82it/s]\n"
          ]
        },
        {
          "output_type": "stream",
          "name": "stdout",
          "text": [
            "----------------------\n",
            "epoch= 65\n",
            "Validation Total Loss: 0.015\n",
            "Validation MSE: 0.015\n",
            "Validation RMSE: 0.123\n",
            "Validation Pearsons correlation: 0.856\n",
            "epoch 66, Training samples 7056\n"
          ]
        },
        {
          "output_type": "stream",
          "name": "stderr",
          "text": [
            "100%|██████████| 221/221 [00:03<00:00, 66.47it/s]\n"
          ]
        },
        {
          "output_type": "stream",
          "name": "stdout",
          "text": [
            "----------------------\n",
            "epoch= 66\n",
            "Training Total Loss: 0.012\n",
            "Training MSE: 0.012\n",
            "Training RMSE: 0.110\n",
            "Training Pearsons correlation: 0.895\n"
          ]
        },
        {
          "output_type": "stream",
          "name": "stderr",
          "text": [
            "100%|██████████| 25/25 [00:00<00:00, 89.39it/s]\n"
          ]
        },
        {
          "output_type": "stream",
          "name": "stdout",
          "text": [
            "----------------------\n",
            "epoch= 66\n",
            "Validation Total Loss: 0.015\n",
            "Validation MSE: 0.015\n",
            "Validation RMSE: 0.122\n",
            "Validation Pearsons correlation: 0.859\n",
            "epoch 67, Training samples 7056\n"
          ]
        },
        {
          "output_type": "stream",
          "name": "stderr",
          "text": [
            "100%|██████████| 221/221 [00:03<00:00, 64.69it/s]\n"
          ]
        },
        {
          "output_type": "stream",
          "name": "stdout",
          "text": [
            "----------------------\n",
            "epoch= 67\n",
            "Training Total Loss: 0.012\n",
            "Training MSE: 0.012\n",
            "Training RMSE: 0.110\n",
            "Training Pearsons correlation: 0.895\n"
          ]
        },
        {
          "output_type": "stream",
          "name": "stderr",
          "text": [
            "100%|██████████| 25/25 [00:00<00:00, 88.24it/s]\n"
          ]
        },
        {
          "output_type": "stream",
          "name": "stdout",
          "text": [
            "----------------------\n",
            "epoch= 67\n",
            "Validation Total Loss: 0.015\n",
            "Validation MSE: 0.015\n",
            "Validation RMSE: 0.124\n",
            "Validation Pearsons correlation: 0.857\n",
            "epoch 68, Training samples 7056\n"
          ]
        },
        {
          "output_type": "stream",
          "name": "stderr",
          "text": [
            "100%|██████████| 221/221 [00:03<00:00, 65.62it/s]\n"
          ]
        },
        {
          "output_type": "stream",
          "name": "stdout",
          "text": [
            "----------------------\n",
            "epoch= 68\n",
            "Training Total Loss: 0.012\n",
            "Training MSE: 0.012\n",
            "Training RMSE: 0.109\n",
            "Training Pearsons correlation: 0.897\n"
          ]
        },
        {
          "output_type": "stream",
          "name": "stderr",
          "text": [
            "100%|██████████| 25/25 [00:00<00:00, 87.52it/s]\n"
          ]
        },
        {
          "output_type": "stream",
          "name": "stdout",
          "text": [
            "----------------------\n",
            "epoch= 68\n",
            "Validation Total Loss: 0.015\n",
            "Validation MSE: 0.015\n",
            "Validation RMSE: 0.122\n",
            "Validation Pearsons correlation: 0.859\n",
            "epoch 69, Training samples 7056\n"
          ]
        },
        {
          "output_type": "stream",
          "name": "stderr",
          "text": [
            "100%|██████████| 221/221 [00:03<00:00, 66.27it/s]\n"
          ]
        },
        {
          "output_type": "stream",
          "name": "stdout",
          "text": [
            "----------------------\n",
            "epoch= 69\n",
            "Training Total Loss: 0.012\n",
            "Training MSE: 0.012\n",
            "Training RMSE: 0.109\n",
            "Training Pearsons correlation: 0.897\n"
          ]
        },
        {
          "output_type": "stream",
          "name": "stderr",
          "text": [
            "100%|██████████| 25/25 [00:00<00:00, 87.13it/s]\n"
          ]
        },
        {
          "output_type": "stream",
          "name": "stdout",
          "text": [
            "----------------------\n",
            "epoch= 69\n",
            "Validation Total Loss: 0.015\n",
            "Validation MSE: 0.015\n",
            "Validation RMSE: 0.122\n",
            "Validation Pearsons correlation: 0.860\n",
            "epoch 70, Training samples 7056\n"
          ]
        },
        {
          "output_type": "stream",
          "name": "stderr",
          "text": [
            "100%|██████████| 221/221 [00:03<00:00, 63.70it/s]\n"
          ]
        },
        {
          "output_type": "stream",
          "name": "stdout",
          "text": [
            "----------------------\n",
            "epoch= 70\n",
            "Training Total Loss: 0.012\n",
            "Training MSE: 0.012\n",
            "Training RMSE: 0.109\n",
            "Training Pearsons correlation: 0.898\n"
          ]
        },
        {
          "output_type": "stream",
          "name": "stderr",
          "text": [
            "100%|██████████| 25/25 [00:00<00:00, 82.50it/s]\n"
          ]
        },
        {
          "output_type": "stream",
          "name": "stdout",
          "text": [
            "----------------------\n",
            "epoch= 70\n",
            "Validation Total Loss: 0.015\n",
            "Validation MSE: 0.015\n",
            "Validation RMSE: 0.122\n",
            "Validation Pearsons correlation: 0.862\n",
            "epoch 71, Training samples 7056\n"
          ]
        },
        {
          "output_type": "stream",
          "name": "stderr",
          "text": [
            "100%|██████████| 221/221 [00:03<00:00, 66.10it/s]\n"
          ]
        },
        {
          "output_type": "stream",
          "name": "stdout",
          "text": [
            "----------------------\n",
            "epoch= 71\n",
            "Training Total Loss: 0.012\n",
            "Training MSE: 0.012\n",
            "Training RMSE: 0.108\n",
            "Training Pearsons correlation: 0.898\n"
          ]
        },
        {
          "output_type": "stream",
          "name": "stderr",
          "text": [
            "100%|██████████| 25/25 [00:00<00:00, 86.64it/s]\n"
          ]
        },
        {
          "output_type": "stream",
          "name": "stdout",
          "text": [
            "----------------------\n",
            "epoch= 71\n",
            "Validation Total Loss: 0.014\n",
            "Validation MSE: 0.015\n",
            "Validation RMSE: 0.121\n",
            "Validation Pearsons correlation: 0.861\n",
            "epoch 72, Training samples 7056\n"
          ]
        },
        {
          "output_type": "stream",
          "name": "stderr",
          "text": [
            "100%|██████████| 221/221 [00:03<00:00, 67.09it/s]\n"
          ]
        },
        {
          "output_type": "stream",
          "name": "stdout",
          "text": [
            "----------------------\n",
            "epoch= 72\n",
            "Training Total Loss: 0.011\n",
            "Training MSE: 0.011\n",
            "Training RMSE: 0.107\n",
            "Training Pearsons correlation: 0.901\n"
          ]
        },
        {
          "output_type": "stream",
          "name": "stderr",
          "text": [
            "100%|██████████| 25/25 [00:00<00:00, 87.60it/s]\n"
          ]
        },
        {
          "output_type": "stream",
          "name": "stdout",
          "text": [
            "----------------------\n",
            "epoch= 72\n",
            "Validation Total Loss: 0.015\n",
            "Validation MSE: 0.015\n",
            "Validation RMSE: 0.121\n",
            "Validation Pearsons correlation: 0.861\n",
            "epoch 73, Training samples 7056\n"
          ]
        },
        {
          "output_type": "stream",
          "name": "stderr",
          "text": [
            "100%|██████████| 221/221 [00:03<00:00, 65.85it/s]\n"
          ]
        },
        {
          "output_type": "stream",
          "name": "stdout",
          "text": [
            "----------------------\n",
            "epoch= 73\n",
            "Training Total Loss: 0.011\n",
            "Training MSE: 0.011\n",
            "Training RMSE: 0.106\n",
            "Training Pearsons correlation: 0.904\n"
          ]
        },
        {
          "output_type": "stream",
          "name": "stderr",
          "text": [
            "100%|██████████| 25/25 [00:00<00:00, 87.52it/s]\n"
          ]
        },
        {
          "output_type": "stream",
          "name": "stdout",
          "text": [
            "----------------------\n",
            "epoch= 73\n",
            "Validation Total Loss: 0.015\n",
            "Validation MSE: 0.015\n",
            "Validation RMSE: 0.123\n",
            "Validation Pearsons correlation: 0.858\n",
            "epoch 74, Training samples 7056\n"
          ]
        },
        {
          "output_type": "stream",
          "name": "stderr",
          "text": [
            "100%|██████████| 221/221 [00:03<00:00, 66.53it/s]\n"
          ]
        },
        {
          "output_type": "stream",
          "name": "stdout",
          "text": [
            "----------------------\n",
            "epoch= 74\n",
            "Training Total Loss: 0.011\n",
            "Training MSE: 0.011\n",
            "Training RMSE: 0.106\n",
            "Training Pearsons correlation: 0.904\n"
          ]
        },
        {
          "output_type": "stream",
          "name": "stderr",
          "text": [
            "100%|██████████| 25/25 [00:00<00:00, 87.44it/s]\n"
          ]
        },
        {
          "output_type": "stream",
          "name": "stdout",
          "text": [
            "----------------------\n",
            "epoch= 74\n",
            "Validation Total Loss: 0.014\n",
            "Validation MSE: 0.015\n",
            "Validation RMSE: 0.121\n",
            "Validation Pearsons correlation: 0.862\n",
            "epoch 75, Training samples 7056\n"
          ]
        },
        {
          "output_type": "stream",
          "name": "stderr",
          "text": [
            "100%|██████████| 221/221 [00:03<00:00, 65.80it/s]\n"
          ]
        },
        {
          "output_type": "stream",
          "name": "stdout",
          "text": [
            "----------------------\n",
            "epoch= 75\n",
            "Training Total Loss: 0.011\n",
            "Training MSE: 0.011\n",
            "Training RMSE: 0.106\n",
            "Training Pearsons correlation: 0.903\n"
          ]
        },
        {
          "output_type": "stream",
          "name": "stderr",
          "text": [
            "100%|██████████| 25/25 [00:00<00:00, 91.27it/s]\n"
          ]
        },
        {
          "output_type": "stream",
          "name": "stdout",
          "text": [
            "----------------------\n",
            "epoch= 75\n",
            "Validation Total Loss: 0.015\n",
            "Validation MSE: 0.015\n",
            "Validation RMSE: 0.121\n",
            "Validation Pearsons correlation: 0.862\n",
            "epoch 76, Training samples 7056\n"
          ]
        },
        {
          "output_type": "stream",
          "name": "stderr",
          "text": [
            "100%|██████████| 221/221 [00:03<00:00, 66.73it/s]\n"
          ]
        },
        {
          "output_type": "stream",
          "name": "stdout",
          "text": [
            "----------------------\n",
            "epoch= 76\n",
            "Training Total Loss: 0.011\n",
            "Training MSE: 0.011\n",
            "Training RMSE: 0.104\n",
            "Training Pearsons correlation: 0.907\n"
          ]
        },
        {
          "output_type": "stream",
          "name": "stderr",
          "text": [
            "100%|██████████| 25/25 [00:00<00:00, 87.87it/s]\n"
          ]
        },
        {
          "output_type": "stream",
          "name": "stdout",
          "text": [
            "----------------------\n",
            "epoch= 76\n",
            "Validation Total Loss: 0.015\n",
            "Validation MSE: 0.015\n",
            "Validation RMSE: 0.122\n",
            "Validation Pearsons correlation: 0.864\n",
            "epoch 77, Training samples 7056\n"
          ]
        },
        {
          "output_type": "stream",
          "name": "stderr",
          "text": [
            "100%|██████████| 221/221 [00:03<00:00, 64.59it/s]\n"
          ]
        },
        {
          "output_type": "stream",
          "name": "stdout",
          "text": [
            "----------------------\n",
            "epoch= 77\n",
            "Training Total Loss: 0.011\n",
            "Training MSE: 0.011\n",
            "Training RMSE: 0.104\n",
            "Training Pearsons correlation: 0.906\n"
          ]
        },
        {
          "output_type": "stream",
          "name": "stderr",
          "text": [
            "100%|██████████| 25/25 [00:00<00:00, 91.74it/s]\n"
          ]
        },
        {
          "output_type": "stream",
          "name": "stdout",
          "text": [
            "----------------------\n",
            "epoch= 77\n",
            "Validation Total Loss: 0.015\n",
            "Validation MSE: 0.015\n",
            "Validation RMSE: 0.121\n",
            "Validation Pearsons correlation: 0.861\n",
            "epoch 78, Training samples 7056\n"
          ]
        },
        {
          "output_type": "stream",
          "name": "stderr",
          "text": [
            "100%|██████████| 221/221 [00:03<00:00, 67.02it/s]\n"
          ]
        },
        {
          "output_type": "stream",
          "name": "stdout",
          "text": [
            "----------------------\n",
            "epoch= 78\n",
            "Training Total Loss: 0.011\n",
            "Training MSE: 0.011\n",
            "Training RMSE: 0.104\n",
            "Training Pearsons correlation: 0.907\n"
          ]
        },
        {
          "output_type": "stream",
          "name": "stderr",
          "text": [
            "100%|██████████| 25/25 [00:00<00:00, 86.15it/s]\n"
          ]
        },
        {
          "output_type": "stream",
          "name": "stdout",
          "text": [
            "----------------------\n",
            "epoch= 78\n",
            "Validation Total Loss: 0.014\n",
            "Validation MSE: 0.014\n",
            "Validation RMSE: 0.120\n",
            "Validation Pearsons correlation: 0.864\n",
            "epoch 79, Training samples 7056\n"
          ]
        },
        {
          "output_type": "stream",
          "name": "stderr",
          "text": [
            "100%|██████████| 221/221 [00:03<00:00, 68.02it/s]\n"
          ]
        },
        {
          "output_type": "stream",
          "name": "stdout",
          "text": [
            "----------------------\n",
            "epoch= 79\n",
            "Training Total Loss: 0.011\n",
            "Training MSE: 0.011\n",
            "Training RMSE: 0.103\n",
            "Training Pearsons correlation: 0.908\n"
          ]
        },
        {
          "output_type": "stream",
          "name": "stderr",
          "text": [
            "100%|██████████| 25/25 [00:00<00:00, 89.56it/s]\n"
          ]
        },
        {
          "output_type": "stream",
          "name": "stdout",
          "text": [
            "----------------------\n",
            "epoch= 79\n",
            "Validation Total Loss: 0.015\n",
            "Validation MSE: 0.015\n",
            "Validation RMSE: 0.122\n",
            "Validation Pearsons correlation: 0.863\n",
            "epoch 80, Training samples 7056\n"
          ]
        },
        {
          "output_type": "stream",
          "name": "stderr",
          "text": [
            "100%|██████████| 221/221 [00:03<00:00, 66.45it/s]\n"
          ]
        },
        {
          "output_type": "stream",
          "name": "stdout",
          "text": [
            "----------------------\n",
            "epoch= 80\n",
            "Training Total Loss: 0.011\n",
            "Training MSE: 0.011\n",
            "Training RMSE: 0.103\n",
            "Training Pearsons correlation: 0.909\n"
          ]
        },
        {
          "output_type": "stream",
          "name": "stderr",
          "text": [
            "100%|██████████| 25/25 [00:00<00:00, 87.17it/s]\n"
          ]
        },
        {
          "output_type": "stream",
          "name": "stdout",
          "text": [
            "----------------------\n",
            "epoch= 80\n",
            "Validation Total Loss: 0.015\n",
            "Validation MSE: 0.015\n",
            "Validation RMSE: 0.122\n",
            "Validation Pearsons correlation: 0.860\n",
            "epoch 81, Training samples 7056\n"
          ]
        },
        {
          "output_type": "stream",
          "name": "stderr",
          "text": [
            "100%|██████████| 221/221 [00:03<00:00, 66.55it/s]\n"
          ]
        },
        {
          "output_type": "stream",
          "name": "stdout",
          "text": [
            "----------------------\n",
            "epoch= 81\n",
            "Training Total Loss: 0.011\n",
            "Training MSE: 0.011\n",
            "Training RMSE: 0.103\n",
            "Training Pearsons correlation: 0.909\n"
          ]
        },
        {
          "output_type": "stream",
          "name": "stderr",
          "text": [
            "100%|██████████| 25/25 [00:00<00:00, 90.30it/s]\n"
          ]
        },
        {
          "output_type": "stream",
          "name": "stdout",
          "text": [
            "----------------------\n",
            "epoch= 81\n",
            "Validation Total Loss: 0.014\n",
            "Validation MSE: 0.014\n",
            "Validation RMSE: 0.118\n",
            "Validation Pearsons correlation: 0.867\n",
            "epoch 82, Training samples 7056\n"
          ]
        },
        {
          "output_type": "stream",
          "name": "stderr",
          "text": [
            "100%|██████████| 221/221 [00:03<00:00, 67.50it/s]\n"
          ]
        },
        {
          "output_type": "stream",
          "name": "stdout",
          "text": [
            "----------------------\n",
            "epoch= 82\n",
            "Training Total Loss: 0.010\n",
            "Training MSE: 0.010\n",
            "Training RMSE: 0.102\n",
            "Training Pearsons correlation: 0.911\n"
          ]
        },
        {
          "output_type": "stream",
          "name": "stderr",
          "text": [
            "100%|██████████| 25/25 [00:00<00:00, 89.90it/s]\n"
          ]
        },
        {
          "output_type": "stream",
          "name": "stdout",
          "text": [
            "----------------------\n",
            "epoch= 82\n",
            "Validation Total Loss: 0.014\n",
            "Validation MSE: 0.015\n",
            "Validation RMSE: 0.120\n",
            "Validation Pearsons correlation: 0.863\n",
            "epoch 83, Training samples 7056\n"
          ]
        },
        {
          "output_type": "stream",
          "name": "stderr",
          "text": [
            "100%|██████████| 221/221 [00:03<00:00, 65.45it/s]\n"
          ]
        },
        {
          "output_type": "stream",
          "name": "stdout",
          "text": [
            "----------------------\n",
            "epoch= 83\n",
            "Training Total Loss: 0.010\n",
            "Training MSE: 0.010\n",
            "Training RMSE: 0.101\n",
            "Training Pearsons correlation: 0.913\n"
          ]
        },
        {
          "output_type": "stream",
          "name": "stderr",
          "text": [
            "100%|██████████| 25/25 [00:00<00:00, 89.02it/s]\n"
          ]
        },
        {
          "output_type": "stream",
          "name": "stdout",
          "text": [
            "----------------------\n",
            "epoch= 83\n",
            "Validation Total Loss: 0.015\n",
            "Validation MSE: 0.015\n",
            "Validation RMSE: 0.121\n",
            "Validation Pearsons correlation: 0.867\n",
            "epoch 84, Training samples 7056\n"
          ]
        },
        {
          "output_type": "stream",
          "name": "stderr",
          "text": [
            "100%|██████████| 221/221 [00:03<00:00, 67.03it/s]\n"
          ]
        },
        {
          "output_type": "stream",
          "name": "stdout",
          "text": [
            "----------------------\n",
            "epoch= 84\n",
            "Training Total Loss: 0.010\n",
            "Training MSE: 0.010\n",
            "Training RMSE: 0.100\n",
            "Training Pearsons correlation: 0.914\n"
          ]
        },
        {
          "output_type": "stream",
          "name": "stderr",
          "text": [
            "100%|██████████| 25/25 [00:00<00:00, 91.11it/s]\n"
          ]
        },
        {
          "output_type": "stream",
          "name": "stdout",
          "text": [
            "----------------------\n",
            "epoch= 84\n",
            "Validation Total Loss: 0.014\n",
            "Validation MSE: 0.014\n",
            "Validation RMSE: 0.119\n",
            "Validation Pearsons correlation: 0.867\n",
            "epoch 85, Training samples 7056\n"
          ]
        },
        {
          "output_type": "stream",
          "name": "stderr",
          "text": [
            "100%|██████████| 221/221 [00:03<00:00, 67.97it/s]\n"
          ]
        },
        {
          "output_type": "stream",
          "name": "stdout",
          "text": [
            "----------------------\n",
            "epoch= 85\n",
            "Training Total Loss: 0.010\n",
            "Training MSE: 0.010\n",
            "Training RMSE: 0.100\n",
            "Training Pearsons correlation: 0.915\n"
          ]
        },
        {
          "output_type": "stream",
          "name": "stderr",
          "text": [
            "100%|██████████| 25/25 [00:00<00:00, 90.90it/s]\n"
          ]
        },
        {
          "output_type": "stream",
          "name": "stdout",
          "text": [
            "----------------------\n",
            "epoch= 85\n",
            "Validation Total Loss: 0.014\n",
            "Validation MSE: 0.015\n",
            "Validation RMSE: 0.121\n",
            "Validation Pearsons correlation: 0.864\n",
            "epoch 86, Training samples 7056\n"
          ]
        },
        {
          "output_type": "stream",
          "name": "stderr",
          "text": [
            "100%|██████████| 221/221 [00:03<00:00, 67.73it/s]\n"
          ]
        },
        {
          "output_type": "stream",
          "name": "stdout",
          "text": [
            "----------------------\n",
            "epoch= 86\n",
            "Training Total Loss: 0.010\n",
            "Training MSE: 0.010\n",
            "Training RMSE: 0.100\n",
            "Training Pearsons correlation: 0.915\n"
          ]
        },
        {
          "output_type": "stream",
          "name": "stderr",
          "text": [
            "100%|██████████| 25/25 [00:00<00:00, 89.01it/s]\n"
          ]
        },
        {
          "output_type": "stream",
          "name": "stdout",
          "text": [
            "----------------------\n",
            "epoch= 86\n",
            "Validation Total Loss: 0.014\n",
            "Validation MSE: 0.014\n",
            "Validation RMSE: 0.119\n",
            "Validation Pearsons correlation: 0.865\n",
            "epoch 87, Training samples 7056\n"
          ]
        },
        {
          "output_type": "stream",
          "name": "stderr",
          "text": [
            "100%|██████████| 221/221 [00:03<00:00, 67.06it/s]\n"
          ]
        },
        {
          "output_type": "stream",
          "name": "stdout",
          "text": [
            "----------------------\n",
            "epoch= 87\n",
            "Training Total Loss: 0.010\n",
            "Training MSE: 0.010\n",
            "Training RMSE: 0.099\n",
            "Training Pearsons correlation: 0.917\n"
          ]
        },
        {
          "output_type": "stream",
          "name": "stderr",
          "text": [
            "100%|██████████| 25/25 [00:00<00:00, 89.41it/s]\n"
          ]
        },
        {
          "output_type": "stream",
          "name": "stdout",
          "text": [
            "----------------------\n",
            "epoch= 87\n",
            "Validation Total Loss: 0.014\n",
            "Validation MSE: 0.014\n",
            "Validation RMSE: 0.120\n",
            "Validation Pearsons correlation: 0.864\n",
            "epoch 88, Training samples 7056\n"
          ]
        },
        {
          "output_type": "stream",
          "name": "stderr",
          "text": [
            "100%|██████████| 221/221 [00:03<00:00, 68.08it/s]\n"
          ]
        },
        {
          "output_type": "stream",
          "name": "stdout",
          "text": [
            "----------------------\n",
            "epoch= 88\n",
            "Training Total Loss: 0.010\n",
            "Training MSE: 0.010\n",
            "Training RMSE: 0.098\n",
            "Training Pearsons correlation: 0.918\n"
          ]
        },
        {
          "output_type": "stream",
          "name": "stderr",
          "text": [
            "100%|██████████| 25/25 [00:00<00:00, 92.73it/s]\n"
          ]
        },
        {
          "output_type": "stream",
          "name": "stdout",
          "text": [
            "----------------------\n",
            "epoch= 88\n",
            "Validation Total Loss: 0.014\n",
            "Validation MSE: 0.014\n",
            "Validation RMSE: 0.118\n",
            "Validation Pearsons correlation: 0.869\n",
            "epoch 89, Training samples 7056\n"
          ]
        },
        {
          "output_type": "stream",
          "name": "stderr",
          "text": [
            "100%|██████████| 221/221 [00:03<00:00, 67.81it/s]\n"
          ]
        },
        {
          "output_type": "stream",
          "name": "stdout",
          "text": [
            "----------------------\n",
            "epoch= 89\n",
            "Training Total Loss: 0.010\n",
            "Training MSE: 0.010\n",
            "Training RMSE: 0.098\n",
            "Training Pearsons correlation: 0.917\n"
          ]
        },
        {
          "output_type": "stream",
          "name": "stderr",
          "text": [
            "100%|██████████| 25/25 [00:00<00:00, 84.67it/s]\n"
          ]
        },
        {
          "output_type": "stream",
          "name": "stdout",
          "text": [
            "----------------------\n",
            "epoch= 89\n",
            "Validation Total Loss: 0.014\n",
            "Validation MSE: 0.014\n",
            "Validation RMSE: 0.117\n",
            "Validation Pearsons correlation: 0.870\n",
            "epoch 90, Training samples 7056\n"
          ]
        },
        {
          "output_type": "stream",
          "name": "stderr",
          "text": [
            "100%|██████████| 221/221 [00:03<00:00, 67.15it/s]\n"
          ]
        },
        {
          "output_type": "stream",
          "name": "stdout",
          "text": [
            "----------------------\n",
            "epoch= 90\n",
            "Training Total Loss: 0.010\n",
            "Training MSE: 0.010\n",
            "Training RMSE: 0.098\n",
            "Training Pearsons correlation: 0.917\n"
          ]
        },
        {
          "output_type": "stream",
          "name": "stderr",
          "text": [
            "100%|██████████| 25/25 [00:00<00:00, 90.48it/s]\n"
          ]
        },
        {
          "output_type": "stream",
          "name": "stdout",
          "text": [
            "----------------------\n",
            "epoch= 90\n",
            "Validation Total Loss: 0.014\n",
            "Validation MSE: 0.014\n",
            "Validation RMSE: 0.118\n",
            "Validation Pearsons correlation: 0.870\n",
            "epoch 91, Training samples 7056\n"
          ]
        },
        {
          "output_type": "stream",
          "name": "stderr",
          "text": [
            "100%|██████████| 221/221 [00:03<00:00, 66.90it/s]\n"
          ]
        },
        {
          "output_type": "stream",
          "name": "stdout",
          "text": [
            "----------------------\n",
            "epoch= 91\n",
            "Training Total Loss: 0.010\n",
            "Training MSE: 0.010\n",
            "Training RMSE: 0.098\n",
            "Training Pearsons correlation: 0.918\n"
          ]
        },
        {
          "output_type": "stream",
          "name": "stderr",
          "text": [
            "100%|██████████| 25/25 [00:00<00:00, 90.79it/s]\n"
          ]
        },
        {
          "output_type": "stream",
          "name": "stdout",
          "text": [
            "----------------------\n",
            "epoch= 91\n",
            "Validation Total Loss: 0.014\n",
            "Validation MSE: 0.014\n",
            "Validation RMSE: 0.119\n",
            "Validation Pearsons correlation: 0.867\n",
            "epoch 92, Training samples 7056\n"
          ]
        },
        {
          "output_type": "stream",
          "name": "stderr",
          "text": [
            "100%|██████████| 221/221 [00:03<00:00, 67.09it/s]\n"
          ]
        },
        {
          "output_type": "stream",
          "name": "stdout",
          "text": [
            "----------------------\n",
            "epoch= 92\n",
            "Training Total Loss: 0.010\n",
            "Training MSE: 0.009\n",
            "Training RMSE: 0.097\n",
            "Training Pearsons correlation: 0.919\n"
          ]
        },
        {
          "output_type": "stream",
          "name": "stderr",
          "text": [
            "100%|██████████| 25/25 [00:00<00:00, 88.30it/s]\n"
          ]
        },
        {
          "output_type": "stream",
          "name": "stdout",
          "text": [
            "----------------------\n",
            "epoch= 92\n",
            "Validation Total Loss: 0.014\n",
            "Validation MSE: 0.014\n",
            "Validation RMSE: 0.119\n",
            "Validation Pearsons correlation: 0.867\n",
            "epoch 93, Training samples 7056\n"
          ]
        },
        {
          "output_type": "stream",
          "name": "stderr",
          "text": [
            "100%|██████████| 221/221 [00:03<00:00, 65.88it/s]\n"
          ]
        },
        {
          "output_type": "stream",
          "name": "stdout",
          "text": [
            "----------------------\n",
            "epoch= 93\n",
            "Training Total Loss: 0.010\n",
            "Training MSE: 0.010\n",
            "Training RMSE: 0.098\n",
            "Training Pearsons correlation: 0.918\n"
          ]
        },
        {
          "output_type": "stream",
          "name": "stderr",
          "text": [
            "100%|██████████| 25/25 [00:00<00:00, 90.62it/s]\n"
          ]
        },
        {
          "output_type": "stream",
          "name": "stdout",
          "text": [
            "----------------------\n",
            "epoch= 93\n",
            "Validation Total Loss: 0.014\n",
            "Validation MSE: 0.014\n",
            "Validation RMSE: 0.120\n",
            "Validation Pearsons correlation: 0.870\n",
            "epoch 94, Training samples 7056\n"
          ]
        },
        {
          "output_type": "stream",
          "name": "stderr",
          "text": [
            "100%|██████████| 221/221 [00:03<00:00, 67.01it/s]\n"
          ]
        },
        {
          "output_type": "stream",
          "name": "stdout",
          "text": [
            "----------------------\n",
            "epoch= 94\n",
            "Training Total Loss: 0.009\n",
            "Training MSE: 0.009\n",
            "Training RMSE: 0.096\n",
            "Training Pearsons correlation: 0.921\n"
          ]
        },
        {
          "output_type": "stream",
          "name": "stderr",
          "text": [
            "100%|██████████| 25/25 [00:00<00:00, 87.34it/s]\n"
          ]
        },
        {
          "output_type": "stream",
          "name": "stdout",
          "text": [
            "----------------------\n",
            "epoch= 94\n",
            "Validation Total Loss: 0.014\n",
            "Validation MSE: 0.015\n",
            "Validation RMSE: 0.120\n",
            "Validation Pearsons correlation: 0.863\n",
            "epoch 95, Training samples 7056\n"
          ]
        },
        {
          "output_type": "stream",
          "name": "stderr",
          "text": [
            "100%|██████████| 221/221 [00:03<00:00, 66.12it/s]\n"
          ]
        },
        {
          "output_type": "stream",
          "name": "stdout",
          "text": [
            "----------------------\n",
            "epoch= 95\n",
            "Training Total Loss: 0.009\n",
            "Training MSE: 0.009\n",
            "Training RMSE: 0.096\n",
            "Training Pearsons correlation: 0.922\n"
          ]
        },
        {
          "output_type": "stream",
          "name": "stderr",
          "text": [
            "100%|██████████| 25/25 [00:00<00:00, 88.24it/s]\n"
          ]
        },
        {
          "output_type": "stream",
          "name": "stdout",
          "text": [
            "----------------------\n",
            "epoch= 95\n",
            "Validation Total Loss: 0.014\n",
            "Validation MSE: 0.014\n",
            "Validation RMSE: 0.118\n",
            "Validation Pearsons correlation: 0.868\n",
            "epoch 96, Training samples 7056\n"
          ]
        },
        {
          "output_type": "stream",
          "name": "stderr",
          "text": [
            "100%|██████████| 221/221 [00:03<00:00, 66.11it/s]\n"
          ]
        },
        {
          "output_type": "stream",
          "name": "stdout",
          "text": [
            "----------------------\n",
            "epoch= 96\n",
            "Training Total Loss: 0.009\n",
            "Training MSE: 0.009\n",
            "Training RMSE: 0.096\n",
            "Training Pearsons correlation: 0.922\n"
          ]
        },
        {
          "output_type": "stream",
          "name": "stderr",
          "text": [
            "100%|██████████| 25/25 [00:00<00:00, 90.94it/s]\n"
          ]
        },
        {
          "output_type": "stream",
          "name": "stdout",
          "text": [
            "----------------------\n",
            "epoch= 96\n",
            "Validation Total Loss: 0.014\n",
            "Validation MSE: 0.014\n",
            "Validation RMSE: 0.118\n",
            "Validation Pearsons correlation: 0.870\n",
            "epoch 97, Training samples 7056\n"
          ]
        },
        {
          "output_type": "stream",
          "name": "stderr",
          "text": [
            "100%|██████████| 221/221 [00:03<00:00, 67.63it/s]\n"
          ]
        },
        {
          "output_type": "stream",
          "name": "stdout",
          "text": [
            "----------------------\n",
            "epoch= 97\n",
            "Training Total Loss: 0.009\n",
            "Training MSE: 0.009\n",
            "Training RMSE: 0.096\n",
            "Training Pearsons correlation: 0.921\n"
          ]
        },
        {
          "output_type": "stream",
          "name": "stderr",
          "text": [
            "100%|██████████| 25/25 [00:00<00:00, 90.06it/s]\n"
          ]
        },
        {
          "output_type": "stream",
          "name": "stdout",
          "text": [
            "----------------------\n",
            "epoch= 97\n",
            "Validation Total Loss: 0.014\n",
            "Validation MSE: 0.014\n",
            "Validation RMSE: 0.120\n",
            "Validation Pearsons correlation: 0.870\n",
            "epoch 98, Training samples 7056\n"
          ]
        },
        {
          "output_type": "stream",
          "name": "stderr",
          "text": [
            "100%|██████████| 221/221 [00:03<00:00, 67.81it/s]\n"
          ]
        },
        {
          "output_type": "stream",
          "name": "stdout",
          "text": [
            "----------------------\n",
            "epoch= 98\n",
            "Training Total Loss: 0.009\n",
            "Training MSE: 0.009\n",
            "Training RMSE: 0.095\n",
            "Training Pearsons correlation: 0.924\n"
          ]
        },
        {
          "output_type": "stream",
          "name": "stderr",
          "text": [
            "100%|██████████| 25/25 [00:00<00:00, 90.28it/s]\n"
          ]
        },
        {
          "output_type": "stream",
          "name": "stdout",
          "text": [
            "----------------------\n",
            "epoch= 98\n",
            "Validation Total Loss: 0.014\n",
            "Validation MSE: 0.014\n",
            "Validation RMSE: 0.119\n",
            "Validation Pearsons correlation: 0.870\n",
            "epoch 99, Training samples 7056\n"
          ]
        },
        {
          "output_type": "stream",
          "name": "stderr",
          "text": [
            "100%|██████████| 221/221 [00:03<00:00, 68.54it/s]\n"
          ]
        },
        {
          "output_type": "stream",
          "name": "stdout",
          "text": [
            "----------------------\n",
            "epoch= 99\n",
            "Training Total Loss: 0.009\n",
            "Training MSE: 0.009\n",
            "Training RMSE: 0.095\n",
            "Training Pearsons correlation: 0.923\n"
          ]
        },
        {
          "output_type": "stream",
          "name": "stderr",
          "text": [
            "100%|██████████| 25/25 [00:00<00:00, 89.00it/s]\n"
          ]
        },
        {
          "output_type": "stream",
          "name": "stdout",
          "text": [
            "----------------------\n",
            "epoch= 99\n",
            "Validation Total Loss: 0.014\n",
            "Validation MSE: 0.014\n",
            "Validation RMSE: 0.118\n",
            "Validation Pearsons correlation: 0.869\n",
            "epoch 100, Training samples 7056\n"
          ]
        },
        {
          "output_type": "stream",
          "name": "stderr",
          "text": [
            "100%|██████████| 221/221 [00:03<00:00, 67.37it/s]\n"
          ]
        },
        {
          "output_type": "stream",
          "name": "stdout",
          "text": [
            "----------------------\n",
            "epoch= 100\n",
            "Training Total Loss: 0.009\n",
            "Training MSE: 0.009\n",
            "Training RMSE: 0.094\n",
            "Training Pearsons correlation: 0.925\n"
          ]
        },
        {
          "output_type": "stream",
          "name": "stderr",
          "text": [
            "100%|██████████| 25/25 [00:00<00:00, 88.84it/s]\n"
          ]
        },
        {
          "output_type": "stream",
          "name": "stdout",
          "text": [
            "----------------------\n",
            "epoch= 100\n",
            "Validation Total Loss: 0.014\n",
            "Validation MSE: 0.014\n",
            "Validation RMSE: 0.118\n",
            "Validation Pearsons correlation: 0.869\n",
            "----------------------\n",
            "Best Model\n"
          ]
        },
        {
          "output_type": "stream",
          "name": "stderr",
          "text": [
            "100%|██████████| 199/199 [00:02<00:00, 86.19it/s]\n",
            "100%|██████████| 199/199 [00:02<00:00, 83.71it/s]\n",
            "100%|██████████| 199/199 [00:02<00:00, 81.80it/s]\n",
            "100%|██████████| 199/199 [00:02<00:00, 80.95it/s]\n",
            "100%|██████████| 199/199 [00:02<00:00, 80.18it/s]\n",
            "100%|██████████| 199/199 [00:02<00:00, 80.71it/s]\n",
            "100%|██████████| 199/199 [00:02<00:00, 81.50it/s]\n",
            "100%|██████████| 199/199 [00:02<00:00, 81.65it/s]\n",
            "100%|██████████| 199/199 [00:02<00:00, 81.06it/s]\n",
            "100%|██████████| 199/199 [00:02<00:00, 80.87it/s]\n"
          ]
        },
        {
          "output_type": "stream",
          "name": "stdout",
          "text": [
            "----------------------\n",
            "Final ResultsTraining\n",
            "Training MSE: 0.009\n",
            "Training RMSE: 0.096\n",
            "Training PCC: 0.921\n"
          ]
        },
        {
          "output_type": "stream",
          "name": "stderr",
          "text": [
            "100%|██████████| 23/23 [00:00<00:00, 67.83it/s]\n",
            "100%|██████████| 23/23 [00:00<00:00, 83.80it/s]\n",
            "100%|██████████| 23/23 [00:00<00:00, 82.80it/s]\n",
            "100%|██████████| 23/23 [00:00<00:00, 83.69it/s]\n",
            "100%|██████████| 23/23 [00:00<00:00, 69.25it/s]\n",
            "100%|██████████| 23/23 [00:00<00:00, 82.97it/s]\n",
            "100%|██████████| 23/23 [00:00<00:00, 82.95it/s]\n",
            "100%|██████████| 23/23 [00:00<00:00, 81.93it/s]\n",
            "100%|██████████| 23/23 [00:00<00:00, 81.24it/s]\n",
            "100%|██████████| 23/23 [00:00<00:00, 80.92it/s]\n"
          ]
        },
        {
          "output_type": "stream",
          "name": "stdout",
          "text": [
            "----------------------\n",
            "Final ResultsValidation\n",
            "Validation MSE: 0.014\n",
            "Validation RMSE: 0.117\n",
            "Validation PCC: 0.870\n"
          ]
        },
        {
          "output_type": "stream",
          "name": "stderr",
          "text": [
            "100%|██████████| 25/25 [00:00<00:00, 65.49it/s]\n",
            "100%|██████████| 25/25 [00:00<00:00, 78.53it/s]\n",
            "100%|██████████| 25/25 [00:00<00:00, 80.95it/s]\n",
            "100%|██████████| 25/25 [00:00<00:00, 81.27it/s]\n",
            "100%|██████████| 25/25 [00:00<00:00, 80.64it/s]\n",
            "100%|██████████| 25/25 [00:00<00:00, 82.11it/s]\n",
            "100%|██████████| 25/25 [00:00<00:00, 81.92it/s]\n",
            "100%|██████████| 25/25 [00:00<00:00, 77.81it/s]\n",
            "100%|██████████| 25/25 [00:00<00:00, 75.81it/s]\n",
            "100%|██████████| 25/25 [00:00<00:00, 76.44it/s]\n"
          ]
        },
        {
          "output_type": "stream",
          "name": "stdout",
          "text": [
            "----------------------\n",
            "Final ResultsTesting\n",
            "Testing MSE: 0.015\n",
            "Testing RMSE: 0.121\n",
            "Testing PCC: 0.878\n"
          ]
        },
        {
          "output_type": "display_data",
          "data": {
            "text/plain": [
              "<Figure size 640x480 with 1 Axes>"
            ],
            "image/png": "[encoded data removed]"
          },
          "metadata": {}
        },
        {
          "output_type": "display_data",
          "data": {
            "text/plain": [
              "<Figure size 640x480 with 1 Axes>"
            ],
            "image/png": "[encoded data removed]"
          },
          "metadata": {}
        },
        {
          "output_type": "display_data",
          "data": {
            "text/plain": [
              "<Figure size 640x480 with 1 Axes>"
            ],
            "image/png": "[encoded data removed]"
          },
          "metadata": {}
        },
        {
          "output_type": "display_data",
          "data": {
            "text/plain": [
              "<Figure size 640x480 with 1 Axes>"
            ],
            "image/png": "[encoded data removed]"
          },
          "metadata": {}
        }
      ]
    },
    {
      "cell_type": "code",
      "source": [],
      "metadata": {
        "id": "N_krDVZGW_97"
      },
      "execution_count": null,
      "outputs": []
    }
  ]
}